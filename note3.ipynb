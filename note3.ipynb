{
 "cells": [
  {
   "cell_type": "code",
   "execution_count": 12,
   "metadata": {
    "collapsed": false
   },
   "outputs": [
    {
     "name": "stdout",
     "output_type": "stream",
     "text": [
      "hello world .% hot enough ya?\n",
      "hello ['world', 'hot'] .% enough ya?\n"
     ]
    }
   ],
   "source": [
    "## 3.1 字符串格式化：精简版\n",
    "\n",
    "# 只有元组或字典可以格式化一个以上的值\n",
    "# 如果格式化字符串中包含%，则需要用%%\n",
    "format='hello %s .%% %s enough ya?'\n",
    "values=(\"world\",'hot')\n",
    "print format % values\n",
    "# 序列只能一个\n",
    "format='hello %s .%% enough ya?'\n",
    "values=[\"world\",'hot']\n",
    "print format % values"
   ]
  },
  {
   "cell_type": "code",
   "execution_count": 15,
   "metadata": {
    "collapsed": false
   },
   "outputs": [
    {
     "data": {
      "text/plain": [
       "\"slum glorious slum. It's slumtastic. $\""
      ]
     },
     "execution_count": 15,
     "metadata": {},
     "output_type": "execute_result"
    }
   ],
   "source": [
    "## 3.2 模板字符串(一)\n",
    "# 用$后紧跟的字符串作为替换;\n",
    "# 如果需要替换的是一部分，则用${};\n",
    "# 如果需要被替换的字符串包含$，则用$$.\n",
    "from string import Template\n",
    "s=Template(\"$x glorious $x. It's ${x}tastic. $$\")\n",
    "s.substitute(x='slum')"
   ]
  },
  {
   "cell_type": "code",
   "execution_count": 16,
   "metadata": {
    "collapsed": false
   },
   "outputs": [
    {
     "data": {
      "text/plain": [
       "'A gentlement must never show his socks'"
      ]
     },
     "execution_count": 16,
     "metadata": {},
     "output_type": "execute_result"
    }
   ],
   "source": [
    "## 3.2 模板字符串(二)\n",
    "s=Template('A $thing must never $action')\n",
    "d={}\n",
    "d['thing']='gentlement'\n",
    "d['action']='show his socks'\n",
    "s.substitute(d)"
   ]
  },
  {
   "cell_type": "code",
   "execution_count": 26,
   "metadata": {
    "collapsed": false
   },
   "outputs": [
    {
     "name": "stdout",
     "output_type": "stream",
     "text": [
      "  3.141593\n",
      "      3.14\n",
      "3.14\n",
      "Guido\n",
      "Guido\n",
      "     +3.14\n",
      "3.14      \n",
      "0000003.14\n"
     ]
    }
   ],
   "source": [
    "## 3.3 字符串格式化：复杂\n",
    "\n",
    "# 宽度和精度 \n",
    "# 宽度：长度；精度：小数位数\n",
    "from math import pi\n",
    "print '%10f' % pi\n",
    "print '%10.2f' % pi\n",
    "print '%.2f' % pi\n",
    "print '%.5s' % 'Guido wm wwk'\n",
    "print '%.*s' % (5,'Guido wm wwk') #*表示从元组参数中读取\n",
    "# 符号 对齐 用0填充\n",
    "print '%+10.2f' % pi \n",
    "print '%-10.2f' % pi \n",
    "print '%010.2f' %pi\n"
   ]
  },
  {
   "cell_type": "code",
   "execution_count": 30,
   "metadata": {
    "collapsed": false
   },
   "outputs": [
    {
     "name": "stdout",
     "output_type": "stream",
     "text": [
      "Please enter width: 40\n",
      "========================================\n",
      "Item                               Price\n",
      "----------------------------------------\n",
      "Apples                              0.40\n",
      "Pears                               0.50\n",
      "Cantaloupes                         1.92\n",
      "Dried Apricots (16 oz.)             8.00\n",
      "Prunes (4 lbs.)                    12.00\n",
      "========================================\n"
     ]
    }
   ],
   "source": [
    "## 3.3字符串格式化示例\n",
    "\n",
    "# Print a formatted price list with a given width\n",
    "\n",
    "width = input('Please enter width: ')\n",
    "\n",
    "price_width = 10\n",
    "item_width = width - price_width\n",
    "\n",
    "header_format = '%-*s%*s'\n",
    "format       = '%-*s%*.2f'\n",
    "\n",
    "print '=' * width\n",
    "\n",
    "print header_format % (item_width, 'Item', price_width, 'Price')\n",
    "\n",
    "print '-' * width\n",
    "\n",
    "print format % (item_width, 'Apples', price_width, 0.4)\n",
    "print format % (item_width, 'Pears', price_width, 0.5)\n",
    "print format % (item_width, 'Cantaloupes', price_width, 1.92)\n",
    "print format % (item_width, 'Dried Apricots (16 oz.)', price_width, 8)\n",
    "print format % (item_width, 'Prunes (4 lbs.)', price_width, 12)\n",
    "\n",
    "print '=' * width"
   ]
  },
  {
   "cell_type": "code",
   "execution_count": 41,
   "metadata": {
    "collapsed": false
   },
   "outputs": [
    {
     "name": "stdout",
     "output_type": "stream",
     "text": [
      "1+2+3+4\n",
      "/usr/bin/env\n",
      "C:\\usr\\bin\\env\n",
      "['1', '2', '3', '4']\n",
      "['', 'usr', 'bin', 'env']\n"
     ]
    }
   ],
   "source": [
    "## 3.4 字符串方法（部分）\n",
    "\n",
    "# join和split\n",
    "# 如果不提供任何分隔符，则split默认空格为分隔符\n",
    "seq=['1','2','3','4']\n",
    "sep='+'\n",
    "a=sep.join(seq)\n",
    "print a\n",
    "print a.split('+')\n",
    "\n",
    "dirs='','usr','bin','env'\n",
    "b='/'.join(dirs)\n",
    "print b\n",
    "print b.split(\"/\")\n",
    "\n",
    "print 'C:'+'\\\\'.join(dirs) #两个\\是因为\\是转义符号\n"
   ]
  },
  {
   "cell_type": "code",
   "execution_count": 48,
   "metadata": {
    "collapsed": false
   },
   "outputs": [
    {
     "name": "stdout",
     "output_type": "stream",
     "text": [
      "0\n",
      "-1\n",
      "0\n",
      "20\n",
      "-1\n"
     ]
    }
   ],
   "source": [
    "# find方法\n",
    "title=\"Monty Python's Flying Circus\"\n",
    "print title.find('Monty')\n",
    "print title.find('Zircus') #没有找到值返回-1\n",
    "subject='$$$ Get rich now!!! $$$'\n",
    "print subject.find('$$$')\n",
    "print subject.find('$$$',1) #设置起始点\n",
    "print subject.find('!!!',0,16) #设置起始和终止点"
   ]
  },
  {
   "cell_type": "code",
   "execution_count": 50,
   "metadata": {
    "collapsed": false
   },
   "outputs": [
    {
     "name": "stdout",
     "output_type": "stream",
     "text": [
      "That's All Folks\n",
      "***SPAm dnwpo * fn  * flknfa!!!***\n",
      "SPAm dnwpo * fn  * flknfa\n"
     ]
    }
   ],
   "source": [
    "# lower返回字符串的小写版（in判断区分大小写）\n",
    "# string模块的capwords函数可以实现首字母大写\n",
    "import string\n",
    "print string.capwords(\"that's all folks\")\n",
    "# replace返回某字符串所有匹配项被替代后的字符串\n",
    "# strip方法去除两端特定字符\n",
    "print '      ***SPAm dnwpo * fn  * flknfa!!!***     '.strip()\n",
    "print '***SPAm dnwpo * fn  * flknfa!!!***'.strip('*!')\n",
    "# translate可以一对一替换字母（多个字母），第二个参数可以删除空格\n"
   ]
  }
 ],
 "metadata": {
  "kernelspec": {
   "display_name": "Python 2",
   "language": "python",
   "name": "python2"
  },
  "language_info": {
   "codemirror_mode": {
    "name": "ipython",
    "version": 2
   },
   "file_extension": ".py",
   "mimetype": "text/x-python",
   "name": "python",
   "nbconvert_exporter": "python",
   "pygments_lexer": "ipython2",
   "version": "2.7.11"
  }
 },
 "nbformat": 4,
 "nbformat_minor": 0
}
