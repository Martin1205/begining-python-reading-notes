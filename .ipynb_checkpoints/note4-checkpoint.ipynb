{
 "cells": [
  {
   "cell_type": "code",
   "execution_count": 2,
   "metadata": {
    "collapsed": false
   },
   "outputs": [
    {
     "data": {
      "text/plain": [
       "'3158'"
      ]
     },
     "execution_count": 2,
     "metadata": {},
     "output_type": "execute_result"
    }
   ],
   "source": [
    "names=['Alice','Beth','Cecil','Dee-Dee','Earl']\n",
    "numbers=['2341','9102','3158','0142','5551']\n",
    "numbers[names.index('Cecil')]"
   ]
  },
  {
   "cell_type": "code",
   "execution_count": 5,
   "metadata": {
    "collapsed": false
   },
   "outputs": [
    {
     "data": {
      "text/plain": [
       "'3158'"
      ]
     },
     "execution_count": 5,
     "metadata": {},
     "output_type": "execute_result"
    }
   ],
   "source": [
    "Phonebook={'Alice':'2341','Beth':'9102','Cecil':'3158'}\n",
    "Phonebook['Cecil']"
   ]
  },
  {
   "cell_type": "code",
   "execution_count": 15,
   "metadata": {
    "collapsed": false
   },
   "outputs": [
    {
     "name": "stdout",
     "output_type": "stream",
     "text": [
      "{'age': 42, 'name': 'Grumby'}\n",
      "{'age': 42, 'name': 'Grumby'}\n"
     ]
    }
   ],
   "source": [
    "## 4 创建和使用字典\n",
    "\n",
    "# 4.1 dict函数 \n",
    "\n",
    "# 和list tuple str一样，都是一种类型 dict()返回空字符串\n",
    "\n",
    "# 通过（键，值）来创建字典\n",
    "items=[('name','Grumby'),('age',42)]\n",
    "d=dict(items)\n",
    "print d\n",
    "# 通过关键字参数\n",
    "d=dict(name='Grumby',age=42)\n",
    "print d"
   ]
  },
  {
   "cell_type": "code",
   "execution_count": 14,
   "metadata": {
    "collapsed": false
   },
   "outputs": [
    {
     "name": "stdout",
     "output_type": "stream",
     "text": [
      "{'age': 42, 'name': 'Grumby'}\n"
     ]
    },
    {
     "data": {
      "text/plain": [
       "{'age': 42, 'name': 'Grumby'}"
      ]
     },
     "execution_count": 14,
     "metadata": {},
     "output_type": "execute_result"
    }
   ],
   "source": []
  },
  {
   "cell_type": "code",
   "execution_count": 18,
   "metadata": {
    "collapsed": false
   },
   "outputs": [
    {
     "name": "stdout",
     "output_type": "stream",
     "text": [
      "{42: 'Floor'}\n"
     ]
    },
    {
     "ename": "IndexError",
     "evalue": "list assignment index out of range",
     "output_type": "error",
     "traceback": [
      "\u001b[1;31m---------------------------------------------------------------------------\u001b[0m",
      "\u001b[1;31mIndexError\u001b[0m                                Traceback (most recent call last)",
      "\u001b[1;32m<ipython-input-18-e40b0fbf8e35>\u001b[0m in \u001b[0;36m<module>\u001b[1;34m()\u001b[0m\n\u001b[0;32m      7\u001b[0m \u001b[1;32mprint\u001b[0m \u001b[0mx\u001b[0m\u001b[1;33m\u001b[0m\u001b[0m\n\u001b[0;32m      8\u001b[0m \u001b[0mx\u001b[0m\u001b[1;33m=\u001b[0m\u001b[1;33m[\u001b[0m\u001b[1;33m]\u001b[0m\u001b[1;33m\u001b[0m\u001b[0m\n\u001b[1;32m----> 9\u001b[1;33m \u001b[0mx\u001b[0m\u001b[1;33m[\u001b[0m\u001b[1;36m42\u001b[0m\u001b[1;33m]\u001b[0m\u001b[1;33m=\u001b[0m\u001b[1;34m'Floor'\u001b[0m\u001b[1;33m\u001b[0m\u001b[0m\n\u001b[0m",
      "\u001b[1;31mIndexError\u001b[0m: list assignment index out of range"
     ]
    }
   ],
   "source": [
    "# 4.2 基本字典操作\n",
    "\n",
    "#1 键可以使任意不可变类型，如浮点型、字符串和元组\n",
    "#2 即使键不存在，也可以为它赋值并自动添加，而列表中需要用append方法或者初始化设置None（例如None*43）\n",
    "x={}\n",
    "x[42]='Floor' #注意这也是一种创建字典的方法\n",
    "print x\n",
    "x=[]\n",
    "x[42]='Floor'"
   ]
  },
  {
   "cell_type": "code",
   "execution_count": 22,
   "metadata": {
    "collapsed": false
   },
   "outputs": [
    {
     "name": "stdout",
     "output_type": "stream",
     "text": [
      "Name: Alice\n",
      "Phone number (p) or address (a)? a\n",
      "Alice's address is Foo drive 23.\n"
     ]
    }
   ],
   "source": [
    "# 字典示例4.2\n",
    "# A simple database\n",
    "\n",
    "# A dictionary with person names as keys. Each person is represented as\n",
    "# another dictionary with the keys 'phone' and 'addr' referring to their phone\n",
    "# number and address, respectively.\n",
    "\n",
    "people = {\n",
    "\n",
    "    'Alice': {\n",
    "        'phone': '2341',\n",
    "        'addr': 'Foo drive 23'\n",
    "    },\n",
    "\n",
    "    'Beth': {\n",
    "        'phone': '9102',\n",
    "        'addr': 'Bar street 42'\n",
    "    },\n",
    "\n",
    "    'Cecil': {\n",
    "        'phone': '3158',\n",
    "        'addr': 'Baz avenue 90'\n",
    "    }\n",
    "\n",
    "}\n",
    "\n",
    "# Descriptive labels for the phone number and address. These will be used\n",
    "# when printing the output.\n",
    "labels = {\n",
    "    'phone': 'phone number',\n",
    "    'addr': 'address'\n",
    "}\n",
    "\n",
    "name = raw_input('Name: ')\n",
    "\n",
    "# Are we looking for a phone number or an address?\n",
    "request = raw_input('Phone number (p) or address (a)? ')\n",
    "\n",
    "# Use the correct key:\n",
    "if request == 'p': key = 'phone'\n",
    "if request == 'a': key = 'addr'\n",
    "\n",
    "# Only try to print information if the name is a valid key in\n",
    "# our dictionary:\n",
    "if name in people: print \"%s's %s is %s.\" % \\\n",
    "    (name, labels[key], people[name][key])"
   ]
  },
  {
   "cell_type": "code",
   "execution_count": 23,
   "metadata": {
    "collapsed": false
   },
   "outputs": [
    {
     "data": {
      "text/plain": [
       "\"Cecil's phone number is 3158.\""
      ]
     },
     "execution_count": 23,
     "metadata": {},
     "output_type": "execute_result"
    }
   ],
   "source": [
    "# 4.3 字典的格式化字符串\n",
    "phonebook={'Alice':'2341','Beth':'9102','Cecil':'3158'}\n",
    "\"Cecil's phone number is %(Cecil)s.\" % phonebook"
   ]
  },
  {
   "cell_type": "code",
   "execution_count": 32,
   "metadata": {
    "collapsed": false
   },
   "outputs": [
    {
     "name": "stdout",
     "output_type": "stream",
     "text": [
      "{'age': 42, 'name': 'Grumby'}\n",
      "{}\n",
      "None\n",
      "{'key': 'value'}\n",
      "{} {'key': 'value'}\n",
      "{'key': 'value'}\n",
      "{} {}\n"
     ]
    }
   ],
   "source": [
    "# 4.4 字典方法\n",
    "# 4.4.1 clear\n",
    "# 情况字典，无返回值\n",
    "items=[('name','Grumby'),('age',42)]\n",
    "d=dict(items)\n",
    "print d\n",
    "returned_value=d.clear()\n",
    "print d\n",
    "print returned_value\n",
    "\n",
    "x={}\n",
    "y=x\n",
    "x['key']='value'\n",
    "print y\n",
    "x={} #这是把x关联到一个新的空字符串，而y还是关联到原来的字符串\n",
    "print x,y\n",
    "x={}\n",
    "y=x\n",
    "x['key']='value'\n",
    "print y\n",
    "x.clear()\n",
    "print x,y"
   ]
  },
  {
   "cell_type": "code",
   "execution_count": 45,
   "metadata": {
    "collapsed": false
   },
   "outputs": [
    {
     "name": "stdout",
     "output_type": "stream",
     "text": [
      "{'username': 'mlh', 'machines': ['foo', 'baz']}\n",
      "{'username': 'admin', 'machines': ['foo', 'baz']}\n",
      "{'username': 'mlh', 'machines': ['foo', 'baz', 'aar']}\n",
      "{'username': 'admin', 'machines': ['foo', 'baz', 'aar']}\n",
      "{'username': 'admin', 'machines': ['foo', 'baz']} \n",
      "{'username': 'admin', 'machines': ['foo', 'bar', 'baz']}\n"
     ]
    }
   ],
   "source": [
    "# 4.4.2 copy\n",
    "# copy是浅复制 替换值不变，但是删除增加会变\n",
    "x={'username':'admin','machines':['foo','bar','baz']}\n",
    "y=x.copy()\n",
    "y['username']='mlh'\n",
    "y['machines'].remove('bar')\n",
    "print y\n",
    "print x\n",
    "y['machines'].append('aar')\n",
    "print y\n",
    "print x\n",
    "# 要想深复制用copy模块的deepcopy函数\n",
    "from copy import deepcopy\n",
    "x={'username':'admin','machines':['foo','bar','baz']}\n",
    "y1=x.copy()\n",
    "y2=deepcopy(x)\n",
    "x['machines'].remove('bar')\n",
    "print y1,'\\n',y2"
   ]
  },
  {
   "cell_type": "code",
   "execution_count": 51,
   "metadata": {
    "collapsed": false
   },
   "outputs": [
    {
     "name": "stdout",
     "output_type": "stream",
     "text": [
      "{'age': None, 'name': None} \n",
      "{'age': None, 'name': None} \n",
      "{'age': '(unknown)', 'name': '(unknown)'}\n"
     ]
    }
   ],
   "source": [
    "# 4.4.3 fromkeys\n",
    "# 使用给定的键创建字典，每个键对应一个默认的None\n",
    "x={}.fromkeys(['name','age'])\n",
    "y=dict.fromkeys(['name','age'])\n",
    "z=dict.fromkeys(['name','age'],'(unknown)') #自己设置默认值\n",
    "print x,'\\n',y,'\\n',z"
   ]
  },
  {
   "cell_type": "code",
   "execution_count": 5,
   "metadata": {
    "collapsed": false
   },
   "outputs": [
    {
     "name": "stdout",
     "output_type": "stream",
     "text": [
      "None\n",
      "N/A\n",
      "Eric\n",
      "Eric\n"
     ]
    },
    {
     "ename": "KeyError",
     "evalue": "'adress'",
     "output_type": "error",
     "traceback": [
      "\u001b[1;31m---------------------------------------------------------------------------\u001b[0m",
      "\u001b[1;31mKeyError\u001b[0m                                  Traceback (most recent call last)",
      "\u001b[1;32m<ipython-input-5-04babcf01c12>\u001b[0m in \u001b[0;36m<module>\u001b[1;34m()\u001b[0m\n\u001b[0;32m      8\u001b[0m \u001b[1;32mprint\u001b[0m \u001b[0md\u001b[0m\u001b[1;33m.\u001b[0m\u001b[0mget\u001b[0m\u001b[1;33m(\u001b[0m\u001b[1;34m'name'\u001b[0m\u001b[1;33m)\u001b[0m\u001b[1;33m\u001b[0m\u001b[0m\n\u001b[0;32m      9\u001b[0m \u001b[1;32mprint\u001b[0m \u001b[0md\u001b[0m\u001b[1;33m[\u001b[0m\u001b[1;34m'name'\u001b[0m\u001b[1;33m]\u001b[0m\u001b[1;33m\u001b[0m\u001b[0m\n\u001b[1;32m---> 10\u001b[1;33m \u001b[1;32mprint\u001b[0m \u001b[0md\u001b[0m\u001b[1;33m[\u001b[0m\u001b[1;34m'adress'\u001b[0m\u001b[1;33m]\u001b[0m\u001b[1;33m\u001b[0m\u001b[0m\n\u001b[0m",
      "\u001b[1;31mKeyError\u001b[0m: 'adress'"
     ]
    }
   ],
   "source": [
    "# 4.4.4 get\n",
    "d={}\n",
    "\n",
    "print d.get('name')\n",
    "print d.get('name','N/A')\n",
    "\n",
    "d['name']='Eric'\n",
    "print d.get('name')\n",
    "print d['name']\n",
    "print d['adress']\n"
   ]
  },
  {
   "cell_type": "code",
   "execution_count": 6,
   "metadata": {
    "collapsed": false
   },
   "outputs": [
    {
     "name": "stdout",
     "output_type": "stream",
     "text": [
      "Name: Gumby\n",
      "Phone number (p) or address (a)? batting average\n",
      "Gumby's batting average is not available.\n"
     ]
    }
   ],
   "source": [
    "# 例4.4.4\n",
    "# A simple database using get()\n",
    "\n",
    "# Insert database (people) from Listing 4-1 here.\n",
    "people = {\n",
    "\n",
    "    'Alice': {\n",
    "        'phone': '2341',\n",
    "        'addr': 'Foo drive 23'\n",
    "    },\n",
    "\n",
    "    'Beth': {\n",
    "        'phone': '9102',\n",
    "        'addr': 'Bar street 42'\n",
    "    },\n",
    "\n",
    "    'Cecil': {\n",
    "        'phone': '3158',\n",
    "        'addr': 'Baz avenue 90'\n",
    "    }\n",
    "\n",
    "}\n",
    "\n",
    "\n",
    "\n",
    "labels = {\n",
    "    'phone': 'phone number',\n",
    "    'addr': 'address'\n",
    "}\n",
    "\n",
    "name = raw_input('Name: ')\n",
    "\n",
    "# Are we looking for a phone number or an address?\n",
    "request = raw_input('Phone number (p) or address (a)? ')\n",
    "\n",
    "# Use the correct key:\n",
    "key = request # In case the request is neither 'p' nor 'a'\n",
    "if request == 'p': key = 'phone'\n",
    "if request == 'a': key = 'addr'\n",
    "\n",
    "# Use get to provide default values:\n",
    "person = people.get(name, {})\n",
    "label = labels.get(key, key)\n",
    "result = person.get(key, 'not available')\n",
    "\n",
    "print \"%s's %s is %s.\" % (name, label, result)\n"
   ]
  },
  {
   "cell_type": "code",
   "execution_count": 10,
   "metadata": {
    "collapsed": false
   },
   "outputs": [
    {
     "name": "stdout",
     "output_type": "stream",
     "text": [
      "False\n",
      "False\n"
     ]
    }
   ],
   "source": [
    "# 4.4.5 has_key\n",
    "# 检查是否包含特定键，相当于 k in d\n",
    "d={}\n",
    "print d.has_key('name')\n",
    "print 'name' in d"
   ]
  },
  {
   "cell_type": "code",
   "execution_count": 13,
   "metadata": {
    "collapsed": false
   },
   "outputs": [
    {
     "name": "stdout",
     "output_type": "stream",
     "text": [
      "1 {'y': 2}\n"
     ]
    }
   ],
   "source": [
    "# 4.4.6items和iteritems\n",
    "# items将字典所有项以列表形式返回，都表示为（键，值）的形式。后者返回迭代器\n",
    "# 4.4.7 keys和iterkeys\n",
    "# keys将字典所有键以列表形式返回。后者返回针对键的迭代器\n",
    "\n",
    "\n",
    "# 4.4.8 pop\n",
    "# 获取对于于给定键的值然后删掉这个 键-值 对\n",
    "d={'x':1,'y':2}\n",
    "x=d.pop('x')\n",
    "print x,d\n",
    "\n",
    "# 4.4.9 popitem\n",
    "# 类似于list.pop 但是是随机删除一个 键-值 对 这是因为字典没有最后一个元素的概念\n",
    "# 若想一个接一个移除并处理项 该方法非常有效"
   ]
  },
  {
   "cell_type": "code",
   "execution_count": 22,
   "metadata": {
    "collapsed": false
   },
   "outputs": [
    {
     "name": "stdout",
     "output_type": "stream",
     "text": [
      "None\n",
      "N/A\n",
      "{'game': None, 'name': 'N/A'}\n",
      "Gumby\n"
     ]
    }
   ],
   "source": [
    "# 4.4.10 setdefault\n",
    "# 与get类似，不同的是，若搜寻的键不存在，则setdefault返回默认值并更新字典\n",
    "d={}\n",
    "print d.setdefault('game')\n",
    "print d.setdefault('name','N/A')\n",
    "print d\n",
    "d['name']='Gumby'\n",
    "print d.setdefault('name','N/A')\n"
   ]
  },
  {
   "cell_type": "code",
   "execution_count": 25,
   "metadata": {
    "collapsed": false
   },
   "outputs": [
    {
     "name": "stdout",
     "output_type": "stream",
     "text": [
      "{'url': 'http://www.python.org', 'changed': 'Mar 14 22:09:15 MET 2008', 'title': 'Python web site'}\n",
      "{'url': 'http://www.python.org', 'test': 1, 'changed': 'Mar 14 22:09:15 MET 2008', 'title': 'Python Language Website'}\n"
     ]
    }
   ],
   "source": [
    "# 4.4.11 update\n",
    "# 以一个字典项更新另一个字典，提供的字典中的项会被添加到旧的字典中，若有相同的键会进行覆盖\n",
    "d={\n",
    "    'title':'Python web site',\n",
    "    'url':'http://www.python.org',\n",
    "    'changed':'Mar 14 22:09:15 MET 2008'\n",
    "}\n",
    "print d\n",
    "x={'title':'Python Language Website','test':1}\n",
    "d.update(x)\n",
    "print d\n"
   ]
  },
  {
   "cell_type": "code",
   "execution_count": 27,
   "metadata": {
    "collapsed": false
   },
   "outputs": [
    {
     "name": "stdout",
     "output_type": "stream",
     "text": [
      "['http://www.python.org', 'Mar 14 22:09:15 MET 2008', 'Python web site']\n",
      "[1, 2, 1]\n"
     ]
    }
   ],
   "source": [
    "# 4.4.12 values 和 itervalues\n",
    "# 以列表返回字典中的值 itervalues返回值得迭代器\n",
    "d={\n",
    "    'title':'Python web site',\n",
    "    'url':'http://www.python.org',\n",
    "    'changed':'Mar 14 22:09:15 MET 2008'\n",
    "}\n",
    "print d.values()\n",
    "d={}\n",
    "d[1]=1\n",
    "d[2]=2\n",
    "d[3]=1\n",
    "print d.values()"
   ]
  }
 ],
 "metadata": {
  "kernelspec": {
   "display_name": "Python 2",
   "language": "python",
   "name": "python2"
  },
  "language_info": {
   "codemirror_mode": {
    "name": "ipython",
    "version": 2
   },
   "file_extension": ".py",
   "mimetype": "text/x-python",
   "name": "python",
   "nbconvert_exporter": "python",
   "pygments_lexer": "ipython2",
   "version": "2.7.11"
  }
 },
 "nbformat": 4,
 "nbformat_minor": 0
}
