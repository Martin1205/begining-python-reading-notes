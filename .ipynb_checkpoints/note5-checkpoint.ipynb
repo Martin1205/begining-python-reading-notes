{
 "cells": [
  {
   "cell_type": "code",
   "execution_count": 18,
   "metadata": {
    "collapsed": false
   },
   "outputs": [
    {
     "name": "stdout",
     "output_type": "stream",
     "text": [
      "age 42\n",
      "Hello , Mr. Gumby\n",
      "Hello, Mr. Gumby\n",
      "Hello, World\n"
     ]
    }
   ],
   "source": [
    "## 条件 循环和其他语句\n",
    "## 5.1 print和import的更多信息\n",
    "\n",
    "# 5.1.1 print\n",
    "# 打印多个结果 用逗号隔开\n",
    "print 'age',42\n",
    "# 注意逗号隔开时 打印输出，不用结果间相隔一个逗号\n",
    "name='Gumby'\n",
    "salutation='Mr.'\n",
    "greeting='Hello'\n",
    "print greeting,',',salutation,name\n",
    "print greeting+',',salutation,name\n",
    "# 在结尾加上逗号，下一个语句和前一个语句在同行输出\n",
    "print 'Hello,',\n",
    "print 'World'\n"
   ]
  },
  {
   "cell_type": "code",
   "execution_count": 20,
   "metadata": {
    "collapsed": false
   },
   "outputs": [
    {
     "name": "stdout",
     "output_type": "stream",
     "text": [
      "1.0\n",
      "2.0 0.0 3.14159265359\n",
      "2.0\n",
      "2.0\n"
     ]
    }
   ],
   "source": [
    "# 5.1.2 import\n",
    "\n",
    "# 用import语句导入模块，就在当前的名称空间(namespace)建立了一个到该模块的引用.这种引用必须使用全称，\n",
    "# 也就是说，当使用在被导入模块中定义的函数时，必须包含模块的名字。所以不能只使用 funcname，而应该使用 modname.funcname\n",
    "import math\n",
    "print math.sqrt(1)\n",
    "\n",
    "# modname没有被定义，所以modname.funcname这种方式不起作用。并且，如果funcname如果已经被定义，它会被新版本（该导入模块中的版本）所替代。\n",
    "from math import sqrt\n",
    "from math import sqrt,log,pi\n",
    "from math import * \n",
    "# *表示，该模块的所有公共对象(public objects)都被导入到 当前的名称空间，也就是任何只要不是以”_”开始的东西都会被导入。 \n",
    "print sqrt(4),log(1),pi\n",
    "\n",
    "# 除此之外，还可以为整个模块或函数提供别名\n",
    "import math as foobar\n",
    "print foobar.sqrt(4)\n",
    "from math import sqrt as foobar\n",
    "print foobar(4)"
   ]
  },
  {
   "cell_type": "code",
   "execution_count": 37,
   "metadata": {
    "collapsed": false
   },
   "outputs": [
    {
     "name": "stdout",
     "output_type": "stream",
     "text": [
      "1 2 3\n",
      "2 1\n",
      "2.0 2.0\n",
      "6\n"
     ]
    }
   ],
   "source": [
    "# 5.2 赋值\n",
    "\n",
    "# 5.2.1 序列解包\n",
    "\n",
    "# 多赋值操作\n",
    "x,y,z=1,2,3\n",
    "print x,y,z\n",
    "y,x=x,y # 同时指定，交换变量很方便\n",
    "print x,y\n",
    "\n",
    "# 这里就是序列解包，即将有多个值的序列解开，然后放到变量的序列中。\n",
    "# 当函数或方法，返回元组（或其他序列及可迭代对象）时，这个特性尤其有用\n",
    "# 所解包的序列中的元素数量必须和放置于赋值符合左边的变量数量相等\n",
    "\n",
    "# 5.2.2 链式赋值\n",
    "a=b=sqrt(4)\n",
    "print a,b\n",
    "\n",
    "# 等价形式\n",
    "a=sqrt(4)\n",
    "a=b\n",
    "\n",
    "# 错误形式:两者非指向同一变量\n",
    "a=sqrt(4)\n",
    "b=sqrt(4)\n",
    "\n",
    "# 5.2.3 增量赋值\n",
    "x=2\n",
    "x+=1\n",
    "x*=2\n",
    "print x"
   ]
  },
  {
   "cell_type": "code",
   "execution_count": 47,
   "metadata": {
    "collapsed": false
   },
   "outputs": [
    {
     "name": "stdout",
     "output_type": "stream",
     "text": [
      "True\n",
      "False\n",
      "False\n",
      "What is your name?aw\n",
      "What is your name?Gumby\n",
      "Hello, Mr.Gumby\n",
      "Enter a number1\n",
      "The number is positive\n"
     ]
    }
   ],
   "source": [
    "# 5.3 语句块\n",
    "# python中靠缩进来创建语句块，：表示语句块的开始，缩进回退表示当前语句块结束\n",
    "\n",
    "# 5.4 条件和条件语句\n",
    "\n",
    "# 5.4.1 布尔变量\n",
    "# 除了 False None 0 \"\" () [] {} 都是真值\n",
    "# bool函数可以用来创建布尔逻辑符\n",
    "print bool(42)\n",
    "print bool(\"\")\n",
    "print bool(0)\n",
    "\n",
    "# 5.4.2 相关语句\n",
    "name=raw_input('What is your name?')\n",
    "if name.endswith('Gumby'):\n",
    "    print 'Hello, Mr.Gumby'\n",
    "\n",
    "# else\n",
    "name=raw_input('What is your name?')\n",
    "if name.endswith('Gumby'):\n",
    "    print 'Hello, Mr.Gumby'\n",
    "else:\n",
    "    print 'Hello, Stranger'\n",
    "\n",
    "# elif\n",
    "num=raw_input('Enter a number')\n",
    "if num>0:\n",
    "    print 'The number is positive'\n",
    "elif num<0:\n",
    "    print 'The number is negative'\n",
    "else:\n",
    "    print 'The number is zero'\n"
   ]
  },
  {
   "cell_type": "code",
   "execution_count": 50,
   "metadata": {
    "collapsed": false
   },
   "outputs": [
    {
     "name": "stdout",
     "output_type": "stream",
     "text": [
      "False\n",
      "True\n",
      "False\n",
      "False\n",
      "True\n",
      "True\n",
      "False\n",
      "True\n",
      "True\n",
      "False\n",
      "True\n"
     ]
    }
   ],
   "source": [
    "# 5.4.3 \n",
    "\n",
    "# 比较运算符\n",
    "x,y=1,2\n",
    "z=(1,2,3)\n",
    "print x==y\n",
    "print x<y\n",
    "print x>y\n",
    "print x>=y\n",
    "print x<=y\n",
    "print x!=y\n",
    "print x is y\n",
    "print x is not y\n",
    "print x in z\n",
    "print x not in z\n",
    "print 0<x<100\n",
    "\n",
    "# 注意的是 比较对象x,y 应该尽量是相同或相近类型，否则即使有比较结果，也无意义\n"
   ]
  },
  {
   "cell_type": "code",
   "execution_count": 51,
   "metadata": {
    "collapsed": false
   },
   "outputs": [
    {
     "name": "stdout",
     "output_type": "stream",
     "text": [
      "True\n",
      "True\n",
      "True\n",
      "False\n"
     ]
    }
   ],
   "source": [
    "# 相等运算符和统一性运算符\n",
    "# 使用==判断两个对象是否相等，使用is判断两者是否为同一个对象\n",
    "x=y=[1,2,3]\n",
    "z=[1,2,3]\n",
    "print x==y\n",
    "print x==z\n",
    "print x is y\n",
    "print x is z\n",
    "\n",
    "# 布尔运算符\n",
    "# and or not\n"
   ]
  },
  {
   "cell_type": "code",
   "execution_count": 4,
   "metadata": {
    "collapsed": false
   },
   "outputs": [
    {
     "ename": "AssertionError",
     "evalue": "the age must be realistic",
     "output_type": "error",
     "traceback": [
      "\u001b[1;31m---------------------------------------------------------------------------\u001b[0m",
      "\u001b[1;31mAssertionError\u001b[0m                            Traceback (most recent call last)",
      "\u001b[1;32m<ipython-input-4-fd206301323a>\u001b[0m in \u001b[0;36m<module>\u001b[1;34m()\u001b[0m\n\u001b[0;32m      5\u001b[0m \u001b[1;32massert\u001b[0m \u001b[1;36m0\u001b[0m\u001b[1;33m<\u001b[0m\u001b[0mage\u001b[0m\u001b[1;33m<\u001b[0m\u001b[1;36m100\u001b[0m\u001b[1;33m\u001b[0m\u001b[0m\n\u001b[0;32m      6\u001b[0m \u001b[0mage\u001b[0m\u001b[1;33m=\u001b[0m\u001b[1;33m-\u001b[0m\u001b[1;36m1\u001b[0m\u001b[1;33m\u001b[0m\u001b[0m\n\u001b[1;32m----> 7\u001b[1;33m \u001b[1;32massert\u001b[0m \u001b[1;36m0\u001b[0m\u001b[1;33m<\u001b[0m\u001b[0mage\u001b[0m\u001b[1;33m<\u001b[0m\u001b[1;36m100\u001b[0m\u001b[1;33m,\u001b[0m\u001b[1;34m'the age must be realistic'\u001b[0m \u001b[1;31m# 条件后添加字符串可以解释断言\u001b[0m\u001b[1;33m\u001b[0m\u001b[0m\n\u001b[0m",
      "\u001b[1;31mAssertionError\u001b[0m: the age must be realistic"
     ]
    }
   ],
   "source": [
    "# 5.4.4 断言\n",
    "\n",
    "#当需要确保程序中某个条件一定为真才能让程序正常工作，可以使用assert置入检查点\n",
    "age=10\n",
    "assert 0<age<100\n",
    "age=-1\n",
    "assert 0<age<100,'the age must be realistic' # 条件后添加字符串可以解释断言"
   ]
  },
  {
   "cell_type": "code",
   "execution_count": 57,
   "metadata": {
    "collapsed": false
   },
   "outputs": [
    {
     "name": "stdout",
     "output_type": "stream",
     "text": [
      "1 2 3 4 5 6 7 8 9 10 1 2 3 4 5 6 7 8 9\n"
     ]
    }
   ],
   "source": [
    "# 5.5 循环\n",
    "\n",
    "# 5.5.1 while 循环\n",
    "# 适用于需要重复执行代码块 直到某个节点\n",
    "x=1\n",
    "while x<=10:\n",
    "    print x,\n",
    "    x+=1\n"
   ]
  },
  {
   "cell_type": "code",
   "execution_count": 71,
   "metadata": {
    "collapsed": false
   },
   "outputs": [
    {
     "name": "stdout",
     "output_type": "stream",
     "text": [
      "1\n",
      "2\n",
      "3\n",
      "4\n",
      "5\n",
      "6\n",
      "7\n",
      "8\n",
      "9\n",
      "[1, 2, 3, 4, 5, 6, 7, 8, 9]\n",
      "[10, 9, 8, 7, 6, 5, 4, 3, 2]\n",
      "y 2\n",
      "x 1\n",
      "z 3\n",
      "y 2\n",
      "x 1\n",
      "z 3\n"
     ]
    }
   ],
   "source": [
    "# 5.5.2 for 循环\n",
    "# 适用于需要对一个集合的全部元素都执行一个代码块的情况\n",
    "for number in range(1,10):\n",
    "    print number\n",
    "# range函数 不包含最后一个数字\n",
    "print range(1,10)\n",
    "print range(10,1,-1)\n",
    "# xrange与range类似 不同的是xrange一次只创建一个数，更高效\n",
    "\n",
    "# 5.5.3  遍历字典\n",
    "d={'x':1,'y':2,'z':3}\n",
    "for x in d:\n",
    "    print x,d[x]\n",
    "for x,y in d.items():\n",
    "    print x,y\n"
   ]
  },
  {
   "cell_type": "code",
   "execution_count": 77,
   "metadata": {
    "collapsed": false
   },
   "outputs": [
    {
     "name": "stdout",
     "output_type": "stream",
     "text": [
      "a is 1 years old\n",
      "b is 2 years old\n",
      "c is 3 years old\n",
      "[('a', 1), ('b', 2), ('c', 3)]\n",
      "[(0, 0), (1, 1), (2, 2), (3, 3), (4, 4)]\n",
      "a is 1 years old\n",
      "b is 2 years old\n",
      "c is 3 years old\n"
     ]
    }
   ],
   "source": [
    "# 5.5.4 其他迭代\n",
    "\n",
    "#1 并行迭代\n",
    "names=['a','b','c']\n",
    "ages=[1,2,3]\n",
    "for i in range(len(names)):\n",
    "    print names[i],\"is\",ages[i],\"years old\"\n",
    "\n",
    "# zip实现配对 \n",
    "print zip(names,ages)\n",
    "print zip(range(5),xrange(10000))\n",
    "for name,age in zip(names,ages):\n",
    "    print name,\"is\",age,\"years old\"\n"
   ]
  },
  {
   "cell_type": "code",
   "execution_count": 88,
   "metadata": {
    "collapsed": false
   },
   "outputs": [
    {
     "name": "stdout",
     "output_type": "stream",
     "text": [
      "['[censored]', 'xhwlk', 'abbrevit', 'abnoyed', 'abet']\n",
      "[3, 3, 4, 6, 8]\n",
      "['!', 'd', 'l', 'r', 'o', 'w', ',', 'o', 'l', 'l', 'e', 'H']\n",
      "!dlrow,olleH\n",
      "!,d,l,r,o,w,,,o,l,l,e,H\n"
     ]
    }
   ],
   "source": [
    "#2 按索引迭代\n",
    "# 有时候想要访问序列中的对象，同时还要获取当前对象的索引。 例如在一个字符串列表中替换所有包含‘xxx’的子字符串\n",
    "strings=['xyaz','xhwlk','abbrevit','abnoyed','abet']\n",
    "for index,string in enumerate(strings):\n",
    "    if 'xy' in string:\n",
    "        strings[index]='[censored]'\n",
    "print strings\n",
    "\n",
    "# 翻转和排序迭代\n",
    "# sorted返回列表，而reversed返回的是可迭代对象，需要用list转成列表，才能应用索引、分片以及调用list方法\n",
    "print sorted([4,3,6,8,3])\n",
    "print list(reversed('Hello,world!'))\n",
    "print ''.join(reversed('Hello,world!'))\n"
   ]
  },
  {
   "cell_type": "code",
   "execution_count": 4,
   "metadata": {
    "collapsed": false
   },
   "outputs": [
    {
     "name": "stdout",
     "output_type": "stream",
     "text": [
      "81\n",
      "Please enter a wordkobe\n",
      "The word was:kobe\n",
      "Please enter a wordkobe\n",
      "The word was:kobe\n",
      "Please enter a word\n",
      "Please enter a wordkobe\n",
      "The word was:kobe\n",
      "Please enter a word\n"
     ]
    }
   ],
   "source": [
    "# 5.5.5 跳出循环\n",
    "\n",
    "# break 结束循环\n",
    "from math import sqrt\n",
    "for n in range(99,0,-1):\n",
    "    root=sqrt(n)\n",
    "    if root==int(root):\n",
    "        print n\n",
    "        break\n",
    "        \n",
    "# continue 跳过剩余的循环体，但是不结束循环\n",
    "\n",
    "# while True/break\n",
    "# 例如需要当用户输入单词时做一些事情，而不输入单词时结束循环，可以使用while True/break方法\n",
    "# 普通实现方法\n",
    "word=raw_input('Please enter a word')\n",
    "while word:\n",
    "    print 'The word was:'+word\n",
    "    word=raw_input('Please enter a word')\n",
    "\n",
    "# wile True/break实现方法\n",
    "while True:\n",
    "    word=raw_input('Please enter a word')\n",
    "    if not word:\n",
    "        break\n",
    "    print 'The word was:'+word"
   ]
  },
  {
   "cell_type": "code",
   "execution_count": 5,
   "metadata": {
    "collapsed": false
   },
   "outputs": [
    {
     "name": "stdout",
     "output_type": "stream",
     "text": [
      "did't find it\n"
     ]
    }
   ],
   "source": [
    "# 5.5.6 for循环中的else子句\n",
    "\n",
    "# esle 子句仅在没有break时执行\n",
    "from math import sqrt\n",
    "for n in range(99,81,-1):\n",
    "    root=sqrt(n)\n",
    "    if root==int(root):\n",
    "        print n\n",
    "        break\n",
    "else:\n",
    "    print \"did't find it\"\n",
    "    "
   ]
  },
  {
   "cell_type": "code",
   "execution_count": 16,
   "metadata": {
    "collapsed": false
   },
   "outputs": [
    {
     "name": "stdout",
     "output_type": "stream",
     "text": [
      "[0, 1, 4, 9, 16, 25, 36, 49, 64, 81]\n",
      "[0, 9, 36, 81]\n",
      "[(0, 0), (0, 1), (0, 2), (1, 0), (1, 1), (1, 2), (2, 0), (2, 1), (2, 2)]\n",
      "['chris+clarice', 'arnold+alice', 'bob+bernice']\n"
     ]
    },
    {
     "data": {
      "text/plain": [
       "{'a': ['alice'], 'b': ['bernice'], 'c': ['clarice']}"
      ]
     },
     "execution_count": 16,
     "metadata": {},
     "output_type": "execute_result"
    }
   ],
   "source": [
    "# 5.6 列表推导式\n",
    "# 利用其它列表创建新列表\n",
    "print [x*x for x in range(10)]\n",
    "print [x*x for x in range(10) if x%3==0]\n",
    "print [(x,y) for x in range(3) for y in range(3)]\n",
    "\n",
    "girls=['alice','bernice','clarice']\n",
    "boys=['chris','arnold','bob']\n",
    "print [b+'+'+g for b in boys for g in girls if b[0]==g[0]]\n",
    "\n",
    "# 更优方案\n",
    "girls=['alice','bernice','clarice']\n",
    "boys=['chris','arnold','bob']\n",
    "letterGirls={}\n",
    "for girl in girls:\n",
    "    letterGirls.setdefault(girl[0],[]).append(girl) \n",
    "    #setdefault返回的是键girl[0]对应的值的列表，所以用append方法可以加上对应的girl名字\n",
    "letterGirls"
   ]
  },
  {
   "cell_type": "code",
   "execution_count": 36,
   "metadata": {
    "collapsed": false
   },
   "outputs": [
    {
     "name": "stdout",
     "output_type": "stream",
     "text": [
      "enter a name:Enid\n"
     ]
    }
   ],
   "source": [
    "# 5.7 pass del exec\n",
    "\n",
    "# 5.7.1 pass\n",
    "# 适用于函数、类未完成时\n",
    "name=raw_input('enter a name:')\n",
    "if name=='Ralph Auldus Mellish':\n",
    "    print 'Welcome'\n",
    "elif name=='Enid':\n",
    "    pass\n",
    "elif name=='Bill Gates':\n",
    "    print 'access Denied'"
   ]
  },
  {
   "cell_type": "code",
   "execution_count": 35,
   "metadata": {
    "collapsed": false
   },
   "outputs": [
    {
     "data": {
      "text/plain": [
       "['hello', 'world']"
      ]
     },
     "execution_count": 35,
     "metadata": {},
     "output_type": "execute_result"
    }
   ],
   "source": [
    "# 5.7.2 del 删除\n",
    "# x、y指向同一个列表 但是删除x不会影响y。原因是删除的是名称，而不是列表本身。\n",
    "# python中无法删除值，当某个值不再适用的时候，python解释器会负责内存的回收\n",
    "x=['hello','world']\n",
    "y=x\n",
    "del x\n",
    "y"
   ]
  },
  {
   "cell_type": "code",
   "execution_count": 53,
   "metadata": {
    "collapsed": false
   },
   "outputs": [
    {
     "name": "stdout",
     "output_type": "stream",
     "text": [
      "Hello, world\n",
      "1\n",
      "2\n",
      "['__builtins__', 'sqrt']\n"
     ]
    },
    {
     "ename": "TypeError",
     "evalue": "'int' object is not callable",
     "output_type": "error",
     "traceback": [
      "\u001b[1;31m---------------------------------------------------------------------------\u001b[0m",
      "\u001b[1;31mTypeError\u001b[0m                                 Traceback (most recent call last)",
      "\u001b[1;32m<ipython-input-53-472bb8431f10>\u001b[0m in \u001b[0;36m<module>\u001b[1;34m()\u001b[0m\n\u001b[0;32m     17\u001b[0m \u001b[1;32mfrom\u001b[0m \u001b[0mmath\u001b[0m \u001b[1;32mimport\u001b[0m \u001b[0msqrt\u001b[0m\u001b[1;33m\u001b[0m\u001b[0m\n\u001b[0;32m     18\u001b[0m \u001b[1;32mexec\u001b[0m \u001b[1;34m'sqrt=1'\u001b[0m\u001b[1;33m\u001b[0m\u001b[0m\n\u001b[1;32m---> 19\u001b[1;33m \u001b[0msqrt\u001b[0m\u001b[1;33m(\u001b[0m\u001b[1;36m4\u001b[0m\u001b[1;33m)\u001b[0m\u001b[1;33m\u001b[0m\u001b[0m\n\u001b[0m",
      "\u001b[1;31mTypeError\u001b[0m: 'int' object is not callable"
     ]
    }
   ],
   "source": [
    "# 5.7.3\n",
    "\n",
    "#1 exec\n",
    "exec \"print 'Hello, world'\"\n",
    "\n",
    "\n",
    "# 通过增加in scope（作用域）,使得通过exec赋值的变量只在它的作用域有效\n",
    "from math import sqrt\n",
    "scope={}\n",
    "exec 'sqrt=1' in scope\n",
    "sqrt(4)\n",
    "print scope['sqrt']\n",
    "print len(scope)\n",
    "print scope.keys() #__builtins__字典自动包含所有的内建函数和值\n",
    "\n",
    "# 如果不这样做，exec中的代码可能干扰命名空间\n",
    "from math import sqrt\n",
    "exec 'sqrt=1'\n",
    "sqrt(4)"
   ]
  },
  {
   "cell_type": "code",
   "execution_count": 52,
   "metadata": {
    "collapsed": false
   },
   "outputs": [
    {
     "name": "stdout",
     "output_type": "stream",
     "text": [
      "enter an arithmetic expression:6+18*2\n",
      "42\n",
      "6\n",
      "4\n"
     ]
    }
   ],
   "source": [
    "###### 2 eval\n",
    "#eval用于求值，exec语句执行python语句，而eval语句会计算python表达式，并且返回结果值\n",
    "print eval(raw_input(\"enter an arithmetic expression:\"))\n",
    "\n",
    "scope={}\n",
    "scope['x']=2\n",
    "scope['y']=3\n",
    "print eval('x*y',scope)\n",
    "\n",
    "scope={}\n",
    "exec 'x=2' in scope\n",
    "print eval('x*x',scope)"
   ]
  }
 ],
 "metadata": {
  "kernelspec": {
   "display_name": "Python 2",
   "language": "python",
   "name": "python2"
  },
  "language_info": {
   "codemirror_mode": {
    "name": "ipython",
    "version": 2
   },
   "file_extension": ".py",
   "mimetype": "text/x-python",
   "name": "python",
   "nbconvert_exporter": "python",
   "pygments_lexer": "ipython2",
   "version": "2.7.11"
  }
 },
 "nbformat": 4,
 "nbformat_minor": 0
}
