{
 "cells": [
  {
   "cell_type": "code",
   "execution_count": 1,
   "metadata": {
    "collapsed": false
   },
   "outputs": [
    {
     "data": {
      "text/plain": [
       "0"
      ]
     },
     "execution_count": 1,
     "metadata": {},
     "output_type": "execute_result"
    }
   ],
   "source": [
    "#小数部分被截除\n",
    "1/2"
   ]
  },
  {
   "cell_type": "code",
   "execution_count": 2,
   "metadata": {
    "collapsed": false
   },
   "outputs": [
    {
     "data": {
      "text/plain": [
       "(0.5, 0.5, 0.5)"
      ]
     },
     "execution_count": 2,
     "metadata": {},
     "output_type": "execute_result"
    }
   ],
   "source": [
    "#参与除法有一个数是浮点数 则结果也为浮点数\n",
    "1.0/2.0,1.0/2,1/2."
   ]
  },
  {
   "cell_type": "code",
   "execution_count": 3,
   "metadata": {
    "collapsed": false
   },
   "outputs": [
    {
     "data": {
      "text/plain": [
       "(0, 1, 3, 1, 0.25)"
      ]
     },
     "execution_count": 3,
     "metadata": {},
     "output_type": "execute_result"
    }
   ],
   "source": [
    "#整除操作用//，取余用%(取余运算符对浮点数同样适用)\n",
    "1//2,1%2,10/3,10%3,2.75%0.5"
   ]
  },
  {
   "cell_type": "code",
   "execution_count": 4,
   "metadata": {
    "collapsed": false
   },
   "outputs": [
    {
     "data": {
      "text/plain": [
       "0.5"
      ]
     },
     "execution_count": 4,
     "metadata": {},
     "output_type": "execute_result"
    }
   ],
   "source": [
    "#计算普通除法的一个方式是调用下面的模块\n",
    "from __future__ import division\n",
    "1/2"
   ]
  },
  {
   "cell_type": "code",
   "execution_count": 5,
   "metadata": {
    "collapsed": false
   },
   "outputs": [
    {
     "data": {
      "text/plain": [
       "10000000000000000L"
      ]
     },
     "execution_count": 5,
     "metadata": {},
     "output_type": "execute_result"
    }
   ],
   "source": [
    "10000000000000000"
   ]
  },
  {
   "cell_type": "code",
   "execution_count": 6,
   "metadata": {
    "collapsed": false
   },
   "outputs": [
    {
     "data": {
      "text/plain": [
       "(175, 8)"
      ]
     },
     "execution_count": 6,
     "metadata": {},
     "output_type": "execute_result"
    }
   ],
   "source": [
    "#16进制（0x）和8进制（0）\n",
    "0xAF,010"
   ]
  },
  {
   "cell_type": "code",
   "execution_count": 7,
   "metadata": {
    "collapsed": false
   },
   "outputs": [
    {
     "name": "stdout",
     "output_type": "stream",
     "text": [
      "One equals one\n"
     ]
    }
   ],
   "source": [
    "if 1==1: print 'One equals one'"
   ]
  },
  {
   "cell_type": "code",
   "execution_count": 8,
   "metadata": {
    "collapsed": false
   },
   "outputs": [
    {
     "data": {
      "text/plain": [
       "(32.0, 33.0, 32)"
      ]
     },
     "execution_count": 8,
     "metadata": {},
     "output_type": "execute_result"
    }
   ],
   "source": [
    "#取整函数，round函数向上取整，math模块的floor函数向下取整，整数除法（/）则直接去掉小数\n",
    "import math\n",
    "math.floor(32.9),round(32.9),int(32.9)"
   ]
  },
  {
   "cell_type": "code",
   "execution_count": 9,
   "metadata": {
    "collapsed": false
   },
   "outputs": [
    {
     "data": {
      "text/plain": [
       "(\"let's go\", \"let's go\")"
      ]
     },
     "execution_count": 9,
     "metadata": {},
     "output_type": "execute_result"
    }
   ],
   "source": [
    "\"let's go\",'let\\'s go'"
   ]
  },
  {
   "cell_type": "code",
   "execution_count": 10,
   "metadata": {
    "collapsed": false
   },
   "outputs": [
    {
     "name": "stdout",
     "output_type": "stream",
     "text": [
      "'hello world!'\n",
      "10000L\n",
      "hello world\n",
      "10000\n",
      "the temperature is 42\n",
      "the temperature is 42\n",
      "the temperature is 42\n"
     ]
    },
    {
     "ename": "TypeError",
     "evalue": "cannot concatenate 'str' and 'int' objects",
     "output_type": "error",
     "traceback": [
      "\u001b[1;31m---------------------------------------------------------------------------\u001b[0m",
      "\u001b[1;31mTypeError\u001b[0m                                 Traceback (most recent call last)",
      "\u001b[1;32m<ipython-input-10-250427f63e91>\u001b[0m in \u001b[0;36m<module>\u001b[1;34m()\u001b[0m\n\u001b[0;32m      8\u001b[0m \u001b[1;32mprint\u001b[0m \u001b[1;34m\"the temperature is \"\u001b[0m\u001b[1;33m+\u001b[0m\u001b[0mstr\u001b[0m\u001b[1;33m(\u001b[0m\u001b[0mtemp\u001b[0m\u001b[1;33m)\u001b[0m\u001b[1;33m\u001b[0m\u001b[0m\n\u001b[0;32m      9\u001b[0m \u001b[1;32mprint\u001b[0m \u001b[1;34m\"the temperature is \"\u001b[0m\u001b[1;33m+\u001b[0m\u001b[0mrepr\u001b[0m\u001b[1;33m(\u001b[0m\u001b[0mtemp\u001b[0m\u001b[1;33m)\u001b[0m\u001b[1;33m\u001b[0m\u001b[0m\n\u001b[1;32m---> 10\u001b[1;33m \u001b[1;32mprint\u001b[0m \u001b[1;34m\"the temperature is \"\u001b[0m\u001b[1;33m+\u001b[0m\u001b[0mtemp\u001b[0m\u001b[1;33m\u001b[0m\u001b[0m\n\u001b[0m",
      "\u001b[1;31mTypeError\u001b[0m: cannot concatenate 'str' and 'int' objects"
     ]
    }
   ],
   "source": [
    "#str和repr  str函数和int、long一样，是一种类型，而repr仅仅是函数\n",
    "#str、repr和反引号是将python值转为字符串的三种方法，函数str让字符串更易于阅读（去掉引号），repr和反引号则把结果字符串转为合法的python表达式\n",
    "print repr(\"hello world!\")\n",
    "print repr(10000L)\n",
    "print str(\"hello world\")\n",
    "print str(10000L)\n",
    "temp=42\n",
    "print \"the temperature is \"+`temp`\n",
    "print \"the temperature is \"+str(temp)\n",
    "print \"the temperature is \"+repr(temp)\n",
    "print \"the temperature is \"+temp"
   ]
  },
  {
   "cell_type": "code",
   "execution_count": 10,
   "metadata": {
    "collapsed": false
   },
   "outputs": [
    {
     "name": "stdout",
     "output_type": "stream",
     "text": [
      "enter a number3\n",
      "enter a number3\n"
     ]
    },
    {
     "data": {
      "text/plain": [
       "(3, '3')"
      ]
     },
     "execution_count": 10,
     "metadata": {},
     "output_type": "execute_result"
    }
   ],
   "source": [
    "#input和raw_input   input假设输入的是合法的python表达式，后者则把输入数据转为字符串\n",
    "x=input(\"enter a number\")\n",
    "y=raw_input(\"enter a number\")\n",
    "x,y"
   ]
  },
  {
   "cell_type": "code",
   "execution_count": 11,
   "metadata": {
    "collapsed": false
   },
   "outputs": [
    {
     "name": "stdout",
     "output_type": "stream",
     "text": [
      "This is a very long string.\n",
      "It continue here.\n",
      "And it's not over yet.\n",
      "\n",
      "\"Hello world!\".\n",
      "Still here.\n",
      "hello,world!\n",
      "hello.\n",
      "world!\n",
      "C:\n",
      "owhere\n",
      "C:\\nowhere\n",
      "C:\\nowhere\n",
      "let\\'s go!\n",
      "let's go\n"
     ]
    }
   ],
   "source": [
    "#长字符串和原始字符串\n",
    "# 跨多行可以用三个引号代替普通引号，其中的单引号、双引号可以直接使用,编写时靠enter自动换行，转义字符串仍然有用。\n",
    "# 普通字符串中使用\\忽略了后面的换行符\n",
    "# 原始字符串就是在引号前面加个r，它不会对反斜线特殊对待\n",
    "print '''This is a very long string.\n",
    "It continue here.\n",
    "And it's not over yet.\\n\n",
    "\"Hello world!\".\n",
    "Still here.'''\n",
    "print \"hello,\\\n",
    "world!\"\n",
    "print \"hello.\\nworld!\"\n",
    "print 'C:\\nowhere'\n",
    "print 'C:\\\\nowhere'\n",
    "print r'C:\\nowhere'#下面这种方法对于字符串里需要显示多个\\时有用\n",
    "print r'let\\'s go!'\n",
    "#print r'this is illegal\\' 不能再原始字符串末尾输入反斜线，这样python就不清楚是否结束字符串\n",
    "print r\"let's go\""
   ]
  },
  {
   "cell_type": "code",
   "execution_count": null,
   "metadata": {
    "collapsed": true
   },
   "outputs": [],
   "source": []
  }
 ],
 "metadata": {
  "kernelspec": {
   "display_name": "Python 2",
   "language": "python",
   "name": "python2"
  },
  "language_info": {
   "codemirror_mode": {
    "name": "ipython",
    "version": 2
   },
   "file_extension": ".py",
   "mimetype": "text/x-python",
   "name": "python",
   "nbconvert_exporter": "python",
   "pygments_lexer": "ipython2",
   "version": "2.7.11"
  }
 },
 "nbformat": 4,
 "nbformat_minor": 0
}
