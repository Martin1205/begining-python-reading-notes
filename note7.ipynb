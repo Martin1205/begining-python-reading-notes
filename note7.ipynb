{
 "cells": [
  {
   "cell_type": "code",
   "execution_count": 30,
   "metadata": {
    "collapsed": false
   },
   "outputs": [
    {
     "name": "stdout",
     "output_type": "stream",
     "text": [
      "Hello,world!I'm Luke Skywalker.\n",
      "Hello,world!I'm Anakin Skywalker.\n",
      "Luke Skywalker\n",
      "Hello,world!I'm Yoda.\n"
     ]
    }
   ],
   "source": [
    "# 7 \n",
    "\n",
    "# 对象：对象包括特性和方法，特性只是作为对象一部分的变量，方法则是存储在对象内部的函数。\n",
    "# 方法和其他函数的区别是，方法总是将对象自己作为第一个参数（self）\n",
    "\n",
    "#类：对象的集合，每个对象都有一个类。\n",
    "#多态：实现将不同类型和类的对象进行同样对待的特性——不需要知道对象属于哪个类就能调用方法\n",
    "#封装：对象可以将他们的内部状态隐藏起来\n",
    "#继承：一个类可以是一个或者多个类的子类。子类从超类继承所有方法。\n",
    "\n",
    "# 创建类\n",
    "class Person:\n",
    "    \n",
    "    def setname(self,name):\n",
    "        self.name=name    #self.name就是对象的特性\n",
    "        \n",
    "    def getname(self):\n",
    "        return self.name\n",
    "    \n",
    "    def greet(self):\n",
    "        print \"Hello,world!I'm %s.\" % self.name\n",
    "        \n",
    "foo=Person()\n",
    "bar=Person()\n",
    "foo.setname('Luke Skywalker')\n",
    "bar.setname('Anakin Skywalker')\n",
    "foo.greet()\n",
    "bar.greet()\n",
    "\n",
    "#特性可以从外部访问\n",
    "\n",
    "print foo.name\n",
    "bar.name='Yoda'\n",
    "bar.greet()\n"
   ]
  },
  {
   "cell_type": "code",
   "execution_count": 31,
   "metadata": {
    "collapsed": false
   },
   "outputs": [
    {
     "name": "stdout",
     "output_type": "stream",
     "text": [
      "The secret meeeage is:\n",
      "Bet you can't see me...\n"
     ]
    },
    {
     "ename": "AttributeError",
     "evalue": "Secretive instance has no attribute '__inaccessible'",
     "output_type": "error",
     "traceback": [
      "\u001b[1;31m---------------------------------------------------------------------------\u001b[0m",
      "\u001b[1;31mAttributeError\u001b[0m                            Traceback (most recent call last)",
      "\u001b[1;32m<ipython-input-31-de488011c090>\u001b[0m in \u001b[0;36m<module>\u001b[1;34m()\u001b[0m\n\u001b[0;32m     12\u001b[0m \u001b[0ms\u001b[0m\u001b[1;33m=\u001b[0m\u001b[0mSecretive\u001b[0m\u001b[1;33m(\u001b[0m\u001b[1;33m)\u001b[0m\u001b[1;33m\u001b[0m\u001b[0m\n\u001b[0;32m     13\u001b[0m \u001b[0ms\u001b[0m\u001b[1;33m.\u001b[0m\u001b[0maccessible\u001b[0m\u001b[1;33m(\u001b[0m\u001b[1;33m)\u001b[0m\u001b[1;33m\u001b[0m\u001b[0m\n\u001b[1;32m---> 14\u001b[1;33m \u001b[0ms\u001b[0m\u001b[1;33m.\u001b[0m\u001b[0m__inaccessible\u001b[0m\u001b[1;33m(\u001b[0m\u001b[1;33m)\u001b[0m\u001b[1;33m\u001b[0m\u001b[0m\n\u001b[0m",
      "\u001b[1;31mAttributeError\u001b[0m: Secretive instance has no attribute '__inaccessible'"
     ]
    }
   ],
   "source": [
    "# 方法和特性也可以变成私有\n",
    "# 定义时在方法名字前加两条斜杠可以将其变成私有\n",
    "class Secretive:\n",
    "    \n",
    "    def __inaccessible(self):\n",
    "        print \"Bet you can't see me...\"\n",
    "        \n",
    "    def accessible(self):\n",
    "        print \"The secret meeeage is:\"\n",
    "        self.__inaccessible()\n",
    "        \n",
    "s=Secretive()\n",
    "s.accessible()\n",
    "s.__inaccessible()\n"
   ]
  },
  {
   "cell_type": "code",
   "execution_count": 35,
   "metadata": {
    "collapsed": false
   },
   "outputs": [
    {
     "name": "stdout",
     "output_type": "stream",
     "text": [
      "<unbound method Secretive.__inaccessible>\n",
      "Bet you can't see me...\n"
     ]
    }
   ],
   "source": [
    "# 事实上还是可以从外部访问，调用时在该方法前加上单斜杠和类名\n",
    "print Secretive._Secretive__inaccessible\n",
    "s._Secretive__inaccessible()"
   ]
  },
  {
   "cell_type": "code",
   "execution_count": 27,
   "metadata": {
    "collapsed": false
   },
   "outputs": [
    {
     "name": "stdout",
     "output_type": "stream",
     "text": [
      "1\n",
      "1\n",
      "2\n",
      "1\n",
      "Two\n",
      "1\n",
      "2\n"
     ]
    }
   ],
   "source": [
    "class MemberCounter:\n",
    "    members1=0\n",
    "    members2=0\n",
    "    def init(self):\n",
    "        MemberCounter.members1+=1  #可供所有实例访问\n",
    "        self.members2+=1           #该实例特有\n",
    "\n",
    "m1=MemberCounter()\n",
    "m1.init()\n",
    "print MemberCounter.members1\n",
    "print m1.members2\n",
    "\n",
    "m2=MemberCounter()\n",
    "m2.init()\n",
    "print MemberCounter.members1\n",
    "print m1.members2\n",
    "\n",
    "m1.members2='Two'    #重绑定实例的特性 类作用域内的变量不受影响\n",
    "print m1.members2\n",
    "print m2.members2\n",
    "print MemberCounter.members1"
   ]
  },
  {
   "cell_type": "code",
   "execution_count": null,
   "metadata": {
    "collapsed": false
   },
   "outputs": [],
   "source": []
  }
 ],
 "metadata": {
  "kernelspec": {
   "display_name": "Python 2",
   "language": "python",
   "name": "python2"
  },
  "language_info": {
   "codemirror_mode": {
    "name": "ipython",
    "version": 2
   },
   "file_extension": ".py",
   "mimetype": "text/x-python",
   "name": "python",
   "nbconvert_exporter": "python",
   "pygments_lexer": "ipython2",
   "version": "2.7.11"
  }
 },
 "nbformat": 4,
 "nbformat_minor": 0
}
