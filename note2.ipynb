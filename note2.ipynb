{
 "cells": [
  {
   "cell_type": "code",
   "execution_count": 1,
   "metadata": {
    "collapsed": false
   },
   "outputs": [
    {
     "data": {
      "text/plain": [
       "('H', 'e', 'o')"
      ]
     },
     "execution_count": 1,
     "metadata": {},
     "output_type": "execute_result"
    }
   ],
   "source": [
    "## 2.1\n",
    "\n",
    "# 序列的通用操作包括：索引、分片、加、乘以及检查成员资格、序列长度、最大最小元素等\n",
    "# 最常见的序列包括列表、元组和字符串\n",
    "'Hello'[0],'Hello'[1],'Hello'[-1]"
   ]
  },
  {
   "cell_type": "code",
   "execution_count": 2,
   "metadata": {
    "collapsed": false
   },
   "outputs": [
    {
     "name": "stdout",
     "output_type": "stream",
     "text": [
      "Year: 2016\n",
      "Month (1-12): 10\n",
      "Day (1-31): 15\n",
      "October 15th, 2016\n"
     ]
    }
   ],
   "source": [
    "## 2.1.1 索引\n",
    "\n",
    "# python里第一位的索引是0，倒数最后一位的索引是-1以此类推\n",
    "# 2-1索引示例\n",
    "# Print out a date, given year, month, and day as numbers\n",
    "\n",
    "months = [\n",
    "    'January',\n",
    "    'February',\n",
    "    'March',\n",
    "    'April',\n",
    "    'May',\n",
    "    'June',\n",
    "    'July',\n",
    "    'August',\n",
    "    'September',\n",
    "    'October',\n",
    "    'November',\n",
    "    'December'\n",
    "]\n",
    "\n",
    "# A list with one ending for each number from 1 to 31\n",
    "endings = ['st', 'nd', 'rd'] + 17 * ['th'] \\\n",
    "        + ['st', 'nd', 'rd'] +  7 * ['th'] \\\n",
    "        + ['st']\n",
    "\n",
    "year    = raw_input('Year: ')\n",
    "month   = raw_input('Month (1-12): ')\n",
    "day     = raw_input('Day (1-31): ')\n",
    "\n",
    "month_number = int(month)\n",
    "day_number = int(day)\n",
    "\n",
    "# Remember to subtract 1 from month and day to get a correct index\n",
    "month_name = months[month_number-1]\n",
    "ordinal = day + endings[day_number-1]\n",
    "\n",
    "print month_name + ' ' + ordinal + ', ' + year"
   ]
  },
  {
   "cell_type": "code",
   "execution_count": 3,
   "metadata": {
    "collapsed": false
   },
   "outputs": [
    {
     "name": "stdout",
     "output_type": "stream",
     "text": [
      "[4, 5, 6]\n",
      "[1]\n",
      "[8, 9, 10]\n",
      "[8, 9]\n",
      "[]\n",
      "[8, 9, 10]\n",
      "[1, 2, 3]\n",
      "[1, 2, 3]\n",
      "[]\n",
      "[1, 2, 3, 4, 5, 6, 7, 8, 9, 10]\n"
     ]
    }
   ],
   "source": [
    "##2.1.2 分片（一）\n",
    "\n",
    "# 分片操作需要两个索引作为边界，前者包括，后者不包括\n",
    "number=[1,2,3,4,5,6,7,8,9,10]\n",
    "print number[3:6]\n",
    "print number[0:1]\n",
    "print number[7:10] #为了让分片能包含列表的最后一个元素，必须提供最后一个元素的下一个元素所对应的所以作为边界\n",
    "print number[-3:-1]\n",
    "#只要最左边的索引比其右边晚出现在序列中，结果就是一个空序列（不过也不是绝对的，当步长为负时可以）。因此，直接空掉最后一个索引就可以输出最后一位\n",
    "print number[-3:0]\n",
    "print number[-3:]\n",
    "# 同样的方法适用于前3位\n",
    "print number[:3]\n",
    "print number[0:3]\n",
    "print number[-1:3]\n",
    "# 两个所以都置空的话可以得到整个序列\n",
    "print number[:]"
   ]
  },
  {
   "cell_type": "code",
   "execution_count": 4,
   "metadata": {
    "collapsed": false,
    "scrolled": true
   },
   "outputs": [
    {
     "name": "stdout",
     "output_type": "stream",
     "text": [
      "Please enter the URL: http://www.python.org\n",
      "Domain name: python\n"
     ]
    }
   ],
   "source": [
    "##2.1.2 分片（二）\n",
    "\n",
    "# 2-2分片示例\n",
    "# Split up a URL of the form http://www.something.com\n",
    "\n",
    "url = raw_input('Please enter the URL: ')\n",
    "domain = url[11:-4]\n",
    "\n",
    "print \"Domain name: \" + domain"
   ]
  },
  {
   "cell_type": "code",
   "execution_count": 5,
   "metadata": {
    "collapsed": false
   },
   "outputs": [
    {
     "name": "stdout",
     "output_type": "stream",
     "text": [
      "[1, 2, 3, 4, 5, 6, 7, 8, 9, 10]\n",
      "[1, 3, 5, 7, 9]\n",
      "[1, 5, 9]\n",
      "[9, 8, 7, 6, 5]\n",
      "[]\n",
      "[10, 8, 6, 4, 2]\n",
      "[]\n",
      "[10, 8, 6, 4, 2]\n",
      "[6, 4, 2]\n",
      "[10, 8]\n"
     ]
    }
   ],
   "source": [
    "##2.1.2 分片（三）\n",
    "\n",
    "# 分片还可以设置步长\n",
    "print number[0:10:1]\n",
    "print number[0:10:2]\n",
    "print number[::4]\n",
    "print number[8:3:-1]\n",
    "print number[8:3]#当前仅当设置步长为负时，第一个索引才可以大于第二个索引结果晚出现在序列中\n",
    "print number[10:0:-2]\n",
    "print number[0:10:-2]\n",
    "# 当步长为正时，默认从序列头部开始向右提取元素，直到最后一个元素；而对于负数步长，则从尾部开始向左提取元素，直至第一个元素\n",
    "# 当使用负数步长时，开始点应大于结束点；当使用整数步长时，开始点应小于结束点\n",
    "print number[::-2]\n",
    "print number[5::-2]\n",
    "print number[:5:-2]"
   ]
  },
  {
   "cell_type": "code",
   "execution_count": 6,
   "metadata": {
    "collapsed": false
   },
   "outputs": [
    {
     "ename": "TypeError",
     "evalue": "can only concatenate list (not \"str\") to list",
     "output_type": "error",
     "traceback": [
      "\u001b[1;31m---------------------------------------------------------------------------\u001b[0m",
      "\u001b[1;31mTypeError\u001b[0m                                 Traceback (most recent call last)",
      "\u001b[1;32m<ipython-input-6-65190ff8d93d>\u001b[0m in \u001b[0;36m<module>\u001b[1;34m()\u001b[0m\n\u001b[0;32m      2\u001b[0m \u001b[1;33m\u001b[0m\u001b[0m\n\u001b[0;32m      3\u001b[0m \u001b[1;31m# 相同类型序列才可以相加\u001b[0m\u001b[1;33m\u001b[0m\u001b[1;33m\u001b[0m\u001b[0m\n\u001b[1;32m----> 4\u001b[1;33m \u001b[1;33m[\u001b[0m\u001b[1;36m1\u001b[0m\u001b[1;33m,\u001b[0m\u001b[1;36m2\u001b[0m\u001b[1;33m,\u001b[0m\u001b[1;36m3\u001b[0m\u001b[1;33m]\u001b[0m\u001b[1;33m+\u001b[0m\u001b[1;34m'world!'\u001b[0m\u001b[1;33m\u001b[0m\u001b[0m\n\u001b[0m",
      "\u001b[1;31mTypeError\u001b[0m: can only concatenate list (not \"str\") to list"
     ]
    }
   ],
   "source": [
    "##2.1.3序列相加\n",
    "\n",
    "# 相同类型序列才可以相加\n",
    "[1,2,3]+'world!'"
   ]
  },
  {
   "cell_type": "code",
   "execution_count": 7,
   "metadata": {
    "collapsed": false
   },
   "outputs": [
    {
     "name": "stdout",
     "output_type": "stream",
     "text": [
      "pythonpythonpythonpythonpython\n",
      "[42, 42, 42, 42, 42, 42, 42, 42, 42, 42]\n",
      "Sentence: He's a very naughty boy!\n",
      "\n",
      "                         +----------------------------+\n",
      "                         |                            |\n",
      "                         |  He's a very naughty boy!  |\n",
      "                         |                            |\n",
      "                         +----------------------------+\n",
      "\n"
     ]
    }
   ],
   "source": [
    "##2.2.4 序列乘法\n",
    "\n",
    "print 'python'*5\n",
    "print [42]*10\n",
    "\n",
    "# 2-3序列乘法示例\n",
    "# Prints a sentence in a centered \"box\" of correct width\n",
    "\n",
    "# Note that the integer division operator (//) only works in Python\n",
    "# 2.2 and newer. In earlier versions, simply use plain division (/)\n",
    "\n",
    "\n",
    "sentence = raw_input(\"Sentence: \")\n",
    "\n",
    "screen_width = 80\n",
    "text_width   = len(sentence)\n",
    "box_width    = text_width + 6\n",
    "left_margin  = (screen_width - box_width) // 2\n",
    "\n",
    "print\n",
    "print ' ' * left_margin + '+'   + '-' * (box_width-2)  +   '+'\n",
    "print ' ' * left_margin + '|  ' + ' ' * text_width     + '  |'\n",
    "print ' ' * left_margin + '|  ' +       sentence       + '  |'\n",
    "print ' ' * left_margin + '|  ' + ' ' * text_width     + '  |'\n",
    "print ' ' * left_margin + '+'   + '-' * (box_width-2)  +   '+'\n",
    "print\n"
   ]
  },
  {
   "cell_type": "code",
   "execution_count": 8,
   "metadata": {
    "collapsed": false
   },
   "outputs": [
    {
     "name": "stdout",
     "output_type": "stream",
     "text": [
      "User name: jones\n",
      "PIN code: 9843\n",
      "Access granted\n"
     ]
    }
   ],
   "source": [
    "##2.2.5 序列成员资格\n",
    "\n",
    "# 2-4序列成员资格示例\n",
    "# Check a user name and PIN code\n",
    "\n",
    "database = [\n",
    "    ['albert',  '1234'],\n",
    "    ['dilbert', '4242'],\n",
    "    ['smith',   '7524'],\n",
    "    ['jones',   '9843']\n",
    "]\n",
    "\n",
    "username = raw_input('User name: ')\n",
    "pin = raw_input('PIN code: ')\n",
    "\n",
    "if [username, pin] in database: print 'Access granted'"
   ]
  },
  {
   "cell_type": "code",
   "execution_count": 9,
   "metadata": {
    "collapsed": false
   },
   "outputs": [
    {
     "name": "stdout",
     "output_type": "stream",
     "text": [
      "[None, None, None, None, None, None, None, None, None, None]\n",
      "[None, None, 2, None, None, None, None, None, None, None]\n",
      "[None, None, None, None, None, None, None, None, None]\n",
      "[1, 2, 3, 4, 5]\n",
      "[1, 5]\n"
     ]
    }
   ],
   "source": [
    "##2.3 列表\n",
    "\n",
    "# 列表\n",
    "# 空列表\n",
    "sequence=[None]*10\n",
    "print sequence\n",
    "# 添加元素 用索引标记赋值\n",
    "sequence[2]=2\n",
    "print sequence\n",
    "# 删除元素\n",
    "del sequence[2]\n",
    "print sequence\n",
    "# 分片赋值\n",
    "number=[1,5]\n",
    "number[1:1]=[2,3,4] # [1:1]相当于对第二个索引位置进行赋值\n",
    "print number\n",
    "number[1:4]=[]\n",
    "print number"
   ]
  },
  {
   "cell_type": "code",
   "execution_count": 10,
   "metadata": {
    "collapsed": false
   },
   "outputs": [
    {
     "name": "stdout",
     "output_type": "stream",
     "text": [
      "[1, 2, 3, 4]\n",
      "2\n",
      "[1, 2, 3, 4, 5, 6]\n",
      "[1, 2, 3, 4, 5, 6]\n",
      "[1, 2, 3, 4]\n",
      "4 1\n",
      "[1, 2, 3]\n",
      "[1, 2, 4, 6, 7, 9] None\n",
      "[1, 2, 4, 6, 7, 9] [1, 2, 4, 6, 7, 9]\n",
      "[4, 6, 2, 1, 7, 9] [1, 2, 4, 6, 7, 9]\n",
      "[4, 6, 2, 1, 7, 9] [1, 2, 4, 6, 7, 9]\n",
      "[9, 7, 6, 4, 2, 1]\n"
     ]
    }
   ],
   "source": [
    "##2.3 列表方法（一）\n",
    "\n",
    "# append列表末尾添加元素\n",
    "lst=[1,2,3]\n",
    "lst.append(4)\n",
    "print lst\n",
    "# count计算某个元素出现的次数\n",
    "lst=[1,5,6,1,5]\n",
    "a=lst.count(1)\n",
    "print a\n",
    "# extend在列表末尾一次性追加多个值\n",
    "a=[1,2,3]\n",
    "b=[4,5,6]\n",
    "print a+b\n",
    "a.extend(b) #比a=a+b和a[len(a):]=b效率更高\n",
    "print a\n",
    "# index寻找某个值出现的位置\n",
    "# insert将对象插入某个位置\n",
    "number=[1,2,3]\n",
    "number.insert(3,4)\n",
    "print number\n",
    "# pop默认移除最后一个元素并返回该值 \n",
    "# 注意：pop是唯一改变了列表又返回值的方法，remove、sort等改变了列表却返回空值\n",
    "a=number.pop()\n",
    "b=number.pop(0)\n",
    "print a,b\n",
    "x=[1,2,3]\n",
    "x.append(x.pop())\n",
    "print x\n",
    "# remove 删除列表中某个值的第一个匹配项\n",
    "# reverse 将列表中元素反向存放\n",
    "# sort \n",
    "# 错误方法：sort不返回值\n",
    "x=[4,6,2,1,7,9]\n",
    "y=x.sort()\n",
    "print x,y\n",
    "# 错误方法：x、y指向同一个列表\n",
    "x=[4,6,2,1,7,9]\n",
    "y=x\n",
    "y.sort()\n",
    "print x,y\n",
    "# 正确方法\n",
    "x=[4,6,2,1,7,9]\n",
    "y=x[:]\n",
    "y.sort()\n",
    "print x,y\n",
    "y=sorted(x)\n",
    "print x,y\n",
    "# 反向排序如下\n",
    "y=sorted(x)\n",
    "y.reverse()\n",
    "print y"
   ]
  },
  {
   "cell_type": "code",
   "execution_count": 11,
   "metadata": {
    "collapsed": false
   },
   "outputs": [
    {
     "name": "stdout",
     "output_type": "stream",
     "text": [
      "[2, 5, 7, 9]\n",
      "['add', 'acme', 'aerate', 'abalone', 'aardvark']\n",
      "[9, 7, 6, 4, 2, 1]\n"
     ]
    }
   ],
   "source": [
    "##2.3 列表方法（二）\n",
    "\n",
    "# 高级排序\n",
    "number=[5,2,7,9]\n",
    "number.sort(cmp) #cmp函数是比较函数的默认实现方式\n",
    "print number\n",
    "x=['aardvark','abalone','acme','add','aerate']\n",
    "x.sort(key=len)\n",
    "print x\n",
    "x=[4,6,2,1,7,9]\n",
    "x.sort(reverse=True)\n",
    "print x"
   ]
  },
  {
   "cell_type": "code",
   "execution_count": 12,
   "metadata": {
    "collapsed": false
   },
   "outputs": [
    {
     "name": "stdout",
     "output_type": "stream",
     "text": [
      "(42,)\n",
      "126\n",
      "(42, 42, 42)\n"
     ]
    }
   ],
   "source": [
    "## 2.4 元组\n",
    "\n",
    "#包含一个值的元组 第一种是错的，后两种是对的\n",
    "42\n",
    "42,\n",
    "print (42,)\n",
    "print 3*(40+2)\n",
    "print 3*(40+2,)"
   ]
  },
  {
   "cell_type": "code",
   "execution_count": 13,
   "metadata": {
    "collapsed": false
   },
   "outputs": [
    {
     "name": "stdout",
     "output_type": "stream",
     "text": [
      "['a', 'b', 'c']\n",
      "[1, 2, 3]\n",
      "[1, 2, 3]\n",
      "(1, 2, 3)\n",
      "('a', 'b', 'c')\n",
      "(1, 2, 3)\n"
     ]
    }
   ],
   "source": [
    "\n",
    "print list('abc')\n",
    "print list((1,2,3))\n",
    "print list([1,2,3])\n",
    "\n",
    "print tuple([1,2,3])\n",
    "print tuple('abc')\n",
    "print tuple((1,2,3))"
   ]
  }
 ],
 "metadata": {
  "kernelspec": {
   "display_name": "Python 2",
   "language": "python",
   "name": "python2"
  },
  "language_info": {
   "codemirror_mode": {
    "name": "ipython",
    "version": 2
   },
   "file_extension": ".py",
   "mimetype": "text/x-python",
   "name": "python",
   "nbconvert_exporter": "python",
   "pygments_lexer": "ipython2",
   "version": "2.7.11"
  }
 },
 "nbformat": 4,
 "nbformat_minor": 0
}
