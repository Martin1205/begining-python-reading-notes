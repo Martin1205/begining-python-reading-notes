{
 "cells": [
  {
   "cell_type": "code",
   "execution_count": 1,
   "metadata": {
    "collapsed": false
   },
   "outputs": [
    {
     "name": "stdout",
     "output_type": "stream",
     "text": [
      "False\n",
      "True\n",
      "[0, 1, 1, 2, 3, 5, 8, 13, 21, 34]\n",
      "[0, 1, 1, 2, 3, 5, 8, 13, 21, 34, 55, 89, 144, 233, 377]\n"
     ]
    }
   ],
   "source": [
    "# 6 函数\n",
    "\n",
    "# 6.3 创建函数\n",
    "\n",
    "# 可以调用callable函数查看是否可调用\n",
    "import math\n",
    "x=1\n",
    "y=math.sqrt\n",
    "print callable(x)\n",
    "print callable(y)\n",
    "\n",
    "# 函数示例\n",
    "def fibs(num):\n",
    "    result=[0,1]\n",
    "    for i in range(num-2):\n",
    "        result.append(result[-2]+result[-1])\n",
    "    return result\n",
    "print fibs(10)\n",
    "print fibs(15)    \n"
   ]
  },
  {
   "cell_type": "code",
   "execution_count": 2,
   "metadata": {
    "collapsed": false
   },
   "outputs": [
    {
     "name": "stdout",
     "output_type": "stream",
     "text": [
      "Help on function square in module __main__:\n",
      "\n",
      "square(x)\n",
      "    calculates the square of the number x\n",
      "\n",
      "calculates the square of the number x\n",
      "This is True\n",
      "None\n"
     ]
    }
   ],
   "source": [
    "# 6.3.1 文档化函数\n",
    "\n",
    "def square(x):\n",
    "    'calculates the square of the number x'\n",
    "    return x*x\n",
    "help(square)\n",
    "print square.__doc__\n",
    "\n",
    "# 6.3.2 并非真正的函数\n",
    "\n",
    "def test():\n",
    "    print 'This is True'\n",
    "    return\n",
    "    print 'this is not'\n",
    "x=test()\n",
    "print x\n",
    "\n",
    "#上述例子说明，所有函数都返回了东西：当不返回值时，返回的是None\n",
    "# 所以，如果是在if函数中返回值，确保其他分支也有返回值，以避免意外返回None\n"
   ]
  },
  {
   "cell_type": "code",
   "execution_count": 6,
   "metadata": {
    "collapsed": false
   },
   "outputs": [
    {
     "name": "stdout",
     "output_type": "stream",
     "text": [
      "Mrs.Entity\n",
      "True\n",
      "False\n",
      "Mrs.Entity\n",
      "['Mr.Gumby', 'Mrs.Thing']\n",
      "['Mr.Gumby', 'Mrs.Thing']\n",
      "False\n",
      "True\n",
      "['Mr.Gumby', 'Mrs.Thing'] \n",
      "['Mrs.Entity', 'Mrs.Thing']\n",
      "['Mrs.Entity', 'Mrs.Thing']\n",
      "['Mrs.Entity', 'Mrs.Thing']\n"
     ]
    }
   ],
   "source": [
    "# 6.4 参数\n",
    "# 写在def语句中函数名后面的变量是函数的形参，而调用函数的值时提供的是实参\n",
    "\n",
    "# 6.4.1参数的改变\n",
    "\n",
    "# 函数通过它的参数获取一系列值，但在函数内为参数赋予新值不会改变任何外部变量的值。即参数存储在局部作用域里\n",
    "\n",
    "def try_to_change(n):\n",
    "    n='Mr.Gumby'\n",
    "\n",
    "name='Mrs.Entity'\n",
    "try_to_change(name)\n",
    "print name\n",
    "\n",
    "# 函数内部，参数n获得了新值，但它并没有影响到name变量。\n",
    "# 当在函数内部把参数重绑定（赋值）的时候，函数外的变量不会受到影响。\n",
    "# 相当于下面：\n",
    "name='Mrs.Entity'\n",
    "n=name\n",
    "print n is name\n",
    "n='Mr.Gumby'\n",
    "print n is name\n",
    "print name\n",
    "\n",
    "# 同时，也要注意到，这里字符串（数字和元组）是不可变的，即无法被修改，只能重新指向新的值。\n",
    "# 而如果是可变的数据结构如列表作参数，则可能发生改变\n",
    "def change(n):\n",
    "    n[0]='Mr.Gumby'\n",
    "    \n",
    "names=['Mrs.Entity','Mrs.Thing']\n",
    "change(names)\n",
    "print names\n",
    "\n",
    "# 相当于\n",
    "names=['Mrs.Entity','Mrs.Thing']\n",
    "n=names\n",
    "n[0]='Mr.Gumby'\n",
    "print names\n"
   ]
  },
  {
   "cell_type": "code",
   "execution_count": 10,
   "metadata": {
    "collapsed": false
   },
   "outputs": [
    {
     "name": "stdout",
     "output_type": "stream",
     "text": [
      "False\n",
      "True\n",
      "['Mr.Gumby', 'Mrs.Thing'] \n",
      "['Mrs.Entity', 'Mrs.Thing']\n",
      "['Mrs.Entity', 'Mrs.Thing']\n",
      "Mr.Gumby\n",
      "['Mrs.Entity', 'Mrs.Thing']\n"
     ]
    }
   ],
   "source": [
    "# 当两个变量同时引用一个列表时，他们确实指向同一个列表。如果想避免这种情况，可以用切片复制一个列表的副本\n",
    "names=['Mrs.Entity','Mrs.Thing']\n",
    "n=names[:]\n",
    "print n is names\n",
    "print n == names\n",
    "n[0]='Mr.Gumby'\n",
    "print n,'\\n',names\n",
    "\n",
    "# 所以我们可以修改函数，用切片取出参数的副本，再对n赋值，这样原始的列表就会安全\n",
    "def change(n):\n",
    "    n=n[:]\n",
    "    n[0]='Mr.Gumby'\n",
    "    \n",
    "names=['Mrs.Entity','Mrs.Thing']\n",
    "change(names)\n",
    "print names\n",
    "\n",
    "# 若直接将参数重新赋值一个新的值，也不会影响原来的列表。\n",
    "# 这是因为，n已经指向另一个变量值，和names不再保持同一性\n",
    "def change(n):\n",
    "    n='Mr.Gumby'\n",
    "    print n\n",
    "    \n",
    "names=['Mrs.Entity','Mrs.Thing']\n",
    "change(names)\n",
    "print names"
   ]
  },
  {
   "cell_type": "code",
   "execution_count": 10,
   "metadata": {
    "collapsed": false
   },
   "outputs": [
    {
     "name": "stdout",
     "output_type": "stream",
     "text": [
      "['Magnus Lie Hetland']\n",
      "{'middle': {'Lie': ['Magnus Lie Hetland']}, 'last': {'Hetland': ['Magnus Lie Hetland']}, 'first': {'Magnus': ['Magnus Lie Hetland']}}\n",
      "['Robin Hood', 'Robin Locksley']\n"
     ]
    }
   ],
   "source": [
    "# 1 为什么要修改参数\n",
    "# 需要使用函数改变参数时：例如，需要编写一个既能存储名字，并且能用名字、中间名或姓查找联系人的程序\n",
    "\n",
    "def init(data):\n",
    "    'initial data structure'\n",
    "    data['first']={}\n",
    "    data['middle']={}\n",
    "    data['last']={}\n",
    "\n",
    "def lookup(data,label,name):\n",
    "    'find name'\n",
    "    return data[label].get(name)\n",
    "\n",
    "def store(data,full_name):\n",
    "    names=full_name.split()\n",
    "    if len(names)==2:\n",
    "        names.insert(1,'')\n",
    "    labels='first','middle','last'\n",
    "    for label,name in zip(labels,names):\n",
    "        people=lookup(data,label,name)\n",
    "        if people:\n",
    "            people.append(full_name)\n",
    "        else:\n",
    "            data[label][name]=[full_name]\n",
    "            \n",
    "MyNames={}\n",
    "init(MyNames)\n",
    "store(MyNames,'Magnus Lie Hetland')\n",
    "print lookup(MyNames,'middle','Lie')\n",
    "print MyNames\n",
    "\n",
    "store(MyNames,'Robin Hood')\n",
    "store(MyNames,'Robin Locksley')\n",
    "\n",
    "print lookup(MyNames,'first','Robin')"
   ]
  },
  {
   "cell_type": "code",
   "execution_count": 31,
   "metadata": {
    "collapsed": false
   },
   "outputs": [
    {
     "name": "stdout",
     "output_type": "stream",
     "text": [
      "11\n",
      "[11]\n"
     ]
    }
   ],
   "source": [
    "# 2 参数何时不可变\n",
    "\n",
    "# 函数只能修改参数对象本身，如果参数不可变，那么只能返回值（多个值用元组返回）\n",
    "# 如果真的想改变参数，根据上面的讨论，就是将值放入列表里（即输入列表）\n",
    "\n",
    "def inc(x): return x+1\n",
    "foo=10\n",
    "foo=inc(foo)\n",
    "print foo\n",
    "\n",
    "def inc(x):x[0]=x[0]+1\n",
    "foo=[10]\n",
    "inc(foo)\n",
    "print foo"
   ]
  },
  {
   "cell_type": "code",
   "execution_count": 36,
   "metadata": {
    "collapsed": false
   },
   "outputs": [
    {
     "name": "stdout",
     "output_type": "stream",
     "text": [
      "hello,Mars!\n",
      "Howdy,Mars!\n",
      "Howdy,Mars...\n",
      "hello,Mars.\n",
      "Top of the moring to ya,Mars!\n"
     ]
    },
    {
     "ename": "TypeError",
     "evalue": "hello() takes at least 1 argument (1 given)",
     "output_type": "error",
     "traceback": [
      "\u001b[1;31m---------------------------------------------------------------------------\u001b[0m",
      "\u001b[1;31mTypeError\u001b[0m                                 Traceback (most recent call last)",
      "\u001b[1;32m<ipython-input-36-f57742d235b0>\u001b[0m in \u001b[0;36m<module>\u001b[1;34m()\u001b[0m\n\u001b[0;32m      8\u001b[0m \u001b[0mhello\u001b[0m\u001b[1;33m(\u001b[0m\u001b[1;34m'Mars'\u001b[0m\u001b[1;33m,\u001b[0m\u001b[0mpunctuation\u001b[0m\u001b[1;33m=\u001b[0m\u001b[1;34m'.'\u001b[0m\u001b[1;33m)\u001b[0m\u001b[1;33m\u001b[0m\u001b[0m\n\u001b[0;32m      9\u001b[0m \u001b[0mhello\u001b[0m\u001b[1;33m(\u001b[0m\u001b[1;34m'Mars'\u001b[0m\u001b[1;33m,\u001b[0m\u001b[0mgreeting\u001b[0m\u001b[1;33m=\u001b[0m\u001b[1;34m'Top of the moring to ya'\u001b[0m\u001b[1;33m)\u001b[0m\u001b[1;33m\u001b[0m\u001b[0m\n\u001b[1;32m---> 10\u001b[1;33m \u001b[0mhello\u001b[0m\u001b[1;33m(\u001b[0m\u001b[0mgreeting\u001b[0m\u001b[1;33m=\u001b[0m\u001b[1;34m'Top of the moring to ya'\u001b[0m\u001b[1;33m)\u001b[0m\u001b[1;33m\u001b[0m\u001b[0m\n\u001b[0m\u001b[0;32m     11\u001b[0m \u001b[1;33m\u001b[0m\u001b[0m\n\u001b[0;32m     12\u001b[0m \u001b[1;31m# 关键字参数可以设置默认值，只要打出对应参数名称并赋予值，就可以不管位置参数\u001b[0m\u001b[1;33m\u001b[0m\u001b[1;33m\u001b[0m\u001b[0m\n",
      "\u001b[1;31mTypeError\u001b[0m: hello() takes at least 1 argument (1 given)"
     ]
    }
   ],
   "source": [
    "# 3 关键字参数和默认值\n",
    "def hello(name,greeting='hello',punctuation='!'):\n",
    "    print '%s,%s%s' % (greeting,name,punctuation)\n",
    "\n",
    "hello('Mars')\n",
    "hello('Mars','Howdy')\n",
    "hello('Mars','Howdy','...')\n",
    "hello('Mars',punctuation='.')\n",
    "hello('Mars',greeting='Top of the moring to ya')\n",
    "hello(greeting='Top of the moring to ya') #第一个是位置参数，没有默认值，必须给定\n",
    "\n",
    "# 关键字参数可以设置默认值，只要打出对应参数名称并赋予值，就可以不管位置参数\n",
    "# 在参数很多时，关键字参数就比较有用。\n",
    "# 上面这种位置参数和关键字参数混合的，应该在强制要求的参数个数少于可修改的默认参数个数时使用，否则容易造成混淆。"
   ]
  },
  {
   "cell_type": "code",
   "execution_count": 5,
   "metadata": {
    "collapsed": false
   },
   "outputs": [
    {
     "name": "stdout",
     "output_type": "stream",
     "text": [
      "('Testing',)\n",
      "(1, 2, 3)\n",
      "Params:\n",
      "(1, 2, 3)\n",
      "Nothing:\n",
      "()\n"
     ]
    },
    {
     "ename": "TypeError",
     "evalue": "print_params_2() got an unexpected keyword argument 'something'",
     "output_type": "error",
     "traceback": [
      "\u001b[1;31m---------------------------------------------------------------------------\u001b[0m",
      "\u001b[1;31mTypeError\u001b[0m                                 Traceback (most recent call last)",
      "\u001b[1;32m<ipython-input-5-52dc3381f8e3>\u001b[0m in \u001b[0;36m<module>\u001b[1;34m()\u001b[0m\n\u001b[0;32m     20\u001b[0m \u001b[1;33m\u001b[0m\u001b[0m\n\u001b[0;32m     21\u001b[0m \u001b[1;31m# 不过不能处理关键字参数\u001b[0m\u001b[1;33m\u001b[0m\u001b[1;33m\u001b[0m\u001b[0m\n\u001b[1;32m---> 22\u001b[1;33m \u001b[0mprint_params_2\u001b[0m\u001b[1;33m(\u001b[0m\u001b[1;34m'Hmm...'\u001b[0m\u001b[1;33m,\u001b[0m\u001b[0msomething\u001b[0m\u001b[1;33m=\u001b[0m\u001b[1;36m42\u001b[0m\u001b[1;33m)\u001b[0m\u001b[1;33m\u001b[0m\u001b[0m\n\u001b[0m",
      "\u001b[1;31mTypeError\u001b[0m: print_params_2() got an unexpected keyword argument 'something'"
     ]
    }
   ],
   "source": [
    "# 6.4.4 收集参数\n",
    "\n",
    "# 1 *号将参数搜集为元组\n",
    "# 参数前的*号搜集其余的位置参数 放在一个元组里，然后使用。\n",
    "def print_params(*params):\n",
    "    print params\n",
    "\n",
    "print_params('Testing')\n",
    "print_params(1,2,3)\n",
    "\n",
    "# 也可以和普通位置参数混合使用\n",
    "def print_params_2(title,*params):\n",
    "    print title\n",
    "    print params\n",
    "\n",
    "print_params_2('Params:',1,2,3)\n",
    "\n",
    "# 如果不提供任何可供搜集的元素，params就是个空元组\n",
    "print_params_2('Nothing:')\n",
    "\n",
    "# 不过不能处理关键字参数\n",
    "print_params_2('Hmm...',something=42)"
   ]
  },
  {
   "cell_type": "code",
   "execution_count": 12,
   "metadata": {
    "collapsed": false
   },
   "outputs": [
    {
     "name": "stdout",
     "output_type": "stream",
     "text": [
      "{'y': 2, 'x': 1, 'z': 3}\n",
      "1 2 3\n",
      "(5, 6, 7)\n",
      "{'foo': 1, 'bar': 2}\n",
      "1 2 3\n",
      "()\n",
      "{}\n",
      "['Luke Skywalker', 'Anakin Skywalker']\n"
     ]
    }
   ],
   "source": [
    "# 2 **将参数搜集为字典\n",
    "\n",
    "# 可处理关键字参数搜集\n",
    "\n",
    "# 使用**，将剩余关键字参数返回字典\n",
    "def print_params_3(**params):\n",
    "    print params\n",
    "\n",
    "print_params_3(x=1,y=2,z=3)\n",
    "\n",
    "def print_params_4(x,y,z=3,*pospar,**keypar):\n",
    "    print x,y,z\n",
    "    print pospar\n",
    "    print keypar\n",
    "\n",
    "print_params_4(1,2,3,5,6,7,foo=1,bar=2)\n",
    "print_params_4(1,2)\n",
    "\n",
    "# 联合使用上述功能，就可以完善上一节的函数，实现多名字存储\n",
    "\n",
    "def store(data,*full_names):\n",
    "    for full_name in full_names:\n",
    "        names=full_name.split()\n",
    "        if len(names)==2:\n",
    "            names.insert(1,'')\n",
    "        labels='first','middle','last'\n",
    "        for label,name in zip(labels,names):\n",
    "            people=lookup(data,label,name)\n",
    "            if people:\n",
    "                people.append(full_name)\n",
    "            else:\n",
    "                data[label][name]=[full_name]\n",
    "d={}\n",
    "init(d)\n",
    "store(d,'Han Solo')\n",
    "store(d,'Luke Skywalker','Anakin Skywalker')\n",
    "print lookup(d,'last','Skywalker')\n"
   ]
  },
  {
   "cell_type": "code",
   "execution_count": 47,
   "metadata": {
    "collapsed": false
   },
   "outputs": [
    {
     "name": "stdout",
     "output_type": "stream",
     "text": [
      "3\n",
      "Well met,Sir Robin!\n",
      "Once upon atime, there was a king called Gumby.\n",
      "Once upon atime, there was a brave knight called Sir Robin.\n",
      "Once upon atime, there was a language called python.\n",
      "Once upon atime, there was a stroke of genius called python.\n",
      "Once upon atime, there was a language called python.\n"
     ]
    }
   ],
   "source": [
    "# 6.4.5 参数传递的逆过程\n",
    "\n",
    "# 参数传递是在定义函数时使用*或**,而其逆过程是在调用的时候使用*或**\n",
    "def add(x,y):\n",
    "    return x+y\n",
    "params=(1,2)\n",
    "print add(*params)\n",
    "\n",
    "def hello_3(greeting='Hello',name='World'):\n",
    "    print '%s,%s!' % (greeting,name)\n",
    "params={'name':'Sir Robin','greeting':'Well met'}\n",
    "hello_3(**params)\n",
    "\n",
    "# 星号只在定义函数（允许使用不定数目的参数）或（“分割”字典或序列）时才有用。\n",
    "# 换句话说，\n",
    "# （1）如果定义时使用了**号，则调用时，既可以直接输入多个参数使参数可以被搜集陈字典；\n",
    "# 也可以直接用字典包含所有参数，调用时同时使用**进行传递，但不能直接通过字典传递参数。\n",
    "# （2）如果在定义时没有使用**，则调用时，若该函数有多个参数，需要用**分割字典传递多个参数；若刚好也只需要一个字典，则可以直接使用而不需要**\n",
    "# 举例如下\n",
    "def story(**kwds):\n",
    "    return 'Once upon atime, there was a '\\\n",
    "            '%(job)s called %(name)s.' % kwds # 第四章的字典格式化\n",
    "\n",
    "print story(job='king',name='Gumby')\n",
    "print story(name='Sir Robin',job='brave knight')\n",
    "params={'job':'language','name':'python'}\n",
    "print story(**params)\n",
    "# print story(**params) 这句话会报错，因为原函数不需要字典，需要**将字典拆分成多个参数\n",
    "del params['job']\n",
    "print story(job='stroke of genius',**params)\n",
    "\n",
    "def story(kwds):\n",
    "    return 'Once upon atime, there was a '\\\n",
    "            '%(job)s called %(name)s.' % kwds\n",
    "\n",
    "params={'job':'language','name':'python'}\n",
    "print story(params)\n",
    "# print story(job='king',name='Gumby') 这句话就会报错，因为原函数也只需要一个字典。如果是上文的hello_3，则需要**将字典拆分\n",
    "\n"
   ]
  },
  {
   "cell_type": "code",
   "execution_count": 36,
   "metadata": {
    "collapsed": false
   },
   "outputs": [
    {
     "name": "stdout",
     "output_type": "stream",
     "text": [
      "8\n",
      "9\n",
      "8\n",
      "3125\n",
      "Received redundant parameters: ('Hello,World!',)\n",
      "27\n",
      "[0, 1, 2, 3, 4, 5, 6, 7, 8, 9]\n",
      "[1, 2, 3, 4]\n",
      "[3, 7, 11]\n",
      "Received redundant parameters: (5, 6)\n",
      "81\n"
     ]
    }
   ],
   "source": [
    "# 6.4.6 示例\n",
    "\n",
    "def power(x,y,*others):\n",
    "    if others:\n",
    "        print 'Received redundant parameters:',others\n",
    "    return pow(x,y)\n",
    "\n",
    "def interval(start,stop=None,step=1):\n",
    "    'Imitates range() for step>0'\n",
    "    if stop==None:             #如果没有为stop指定值得话\n",
    "        start,stop=0,start    #指定参数\n",
    "    result=[]\n",
    "    i=start                   #计算start索引\n",
    "    while i<stop:            #直到计算stop的索引\n",
    "        result.append(i)     \n",
    "        i+=step\n",
    "    return result\n",
    "\n",
    "print power(2,3)\n",
    "print power(3,2)\n",
    "print power(y=3,x=2)\n",
    "params=(5,)*2\n",
    "print power(*params)\n",
    "print power(3,3,'Hello,World!')\n",
    "print interval(10)\n",
    "print interval(1,5)\n",
    "print interval(3,12,4)\n",
    "print power(*interval(3,7))"
   ]
  },
  {
   "cell_type": "code",
   "execution_count": 61,
   "metadata": {
    "collapsed": false
   },
   "outputs": [
    {
     "name": "stdout",
     "output_type": "stream",
     "text": [
      "1\n",
      "2\n",
      "1\n",
      "Shrubberry\n",
      "2\n",
      "10\n",
      "9\n",
      "8\n"
     ]
    }
   ],
   "source": [
    "# 6.5 作用域\n",
    "\n",
    "#不可见字典 全局作用域\n",
    "x=1\n",
    "scope=vars()\n",
    "print scope['x']\n",
    "scope['x']+=1\n",
    "print x\n",
    "\n",
    "#每个函数的调用都会创建一个新的作用域，这个作用域是局部作用域\n",
    "#下面的x=42只在局部作用域中起作用，而不影响全局作用域\n",
    "#函数内的变量称为局部变量\n",
    "def foo():x=42\n",
    "x=1\n",
    "foo()\n",
    "print x\n",
    "\n",
    "# 函数内调用全局变量\n",
    "def combine(parameter):\n",
    "    print parameter+globals()['parameter']\n",
    "parameter='berry'\n",
    "combine('Shrub')\n",
    "\n",
    "#函数内重绑定全局变量\n",
    "#如果在函数内部将值赋予一个变量，它会自动成为局部变量，除非告知python将其声明为全局变量\n",
    "x=1\n",
    "def change_global():\n",
    "    global x\n",
    "    x+=1\n",
    "change_global()\n",
    "print x\n",
    "\n",
    "#嵌套作用域\n",
    "def multiplier(factor):\n",
    "    def multiplyByFactor(number):\n",
    "        return number*factor\n",
    "    return multiplyByFactor\n",
    "double=multiplier(2) #double此时是一个函数\n",
    "print double(5)\n",
    "triple=multiplier(3)\n",
    "print triple(3)\n",
    "print multiplier(2)(4)"
   ]
  },
  {
   "cell_type": "code",
   "execution_count": 62,
   "metadata": {
    "collapsed": true
   },
   "outputs": [],
   "source": [
    "# 6.6\n",
    "\n",
    "# 递归的基本组成部分\n",
    "# （1）当函数直接返回值时有基本示例（最小可能性问题）\n",
    "# （2）递归实例 包括一个或多个问题最小部分的递归调用\n",
    "\n",
    "# 6.6.1阶乘和幂\n",
    "\n",
    "# 1 阶乘\n",
    "def factorial(n):\n",
    "    result=n\n",
    "    for i in range(1,n):\n",
    "        result*=i\n",
    "    return result\n",
    "\n",
    "# 递归版本\n",
    "# （1）1的阶乘是1\n",
    "# （2）大于1的数n的阶乘是n乘n-1的阶乘\n",
    "def factorial(n):\n",
    "    if n==1:\n",
    "        return 1\n",
    "    else:\n",
    "        return n*factorial(n-1)\n",
    "    \n",
    "# 2 幂\n",
    "def power(x,n):\n",
    "    result=1\n",
    "    for i in range(n):\n",
    "        result*=x\n",
    "    return result\n",
    "\n",
    "# 递归版本\n",
    "# （1）任何数的0次幂是1\n",
    "# （2）对于任何大于0的书，power(x,n)是x乘以power(x,n-1)的结果\n",
    "def power(x,n):\n",
    "    if n==0:\n",
    "        return 1\n",
    "    else:\n",
    "        return x*power(x,n-1)"
   ]
  },
  {
   "cell_type": "code",
   "execution_count": 69,
   "metadata": {
    "collapsed": false
   },
   "outputs": [
    {
     "name": "stdout",
     "output_type": "stream",
     "text": [
      "[4, 8, 34, 67, 95, 100, 123]\n",
      "2\n",
      "5\n"
     ]
    }
   ],
   "source": [
    "# 6.6.2\n",
    "# （1）如果上下限相同，那么就是数字所在位置，返回\n",
    "# （2）否则，找到两者的中点，查找数字是在左侧还是右侧，继续查找数字所在的那半部分\n",
    "def search(sequence,number,lower=0,upper=None):\n",
    "    if upper is None:\n",
    "        upper=len(sequence)-1\n",
    "    if lower==upper:\n",
    "        assert number==sequence[upper] #程序假设，所查找的数字一定会被找到\n",
    "        return upper\n",
    "    else:\n",
    "        middle=(lower+upper)//2\n",
    "        if number>sequence[middle]:\n",
    "            return search(sequence,number,middle+1,upper)\n",
    "        else:\n",
    "            return search(sequence,number,lower,middle)\n",
    "seq=[34,67,8,123,4,100,95]\n",
    "seq.sort()\n",
    "print seq\n",
    "print search(seq,34)\n",
    "print search(seq,100)"
   ]
  },
  {
   "cell_type": "code",
   "execution_count": 78,
   "metadata": {
    "collapsed": false
   },
   "outputs": [
    {
     "name": "stdout",
     "output_type": "stream",
     "text": [
      "['0', '1', '2', '3', '4', '5', '6', '7', '8', '9']\n",
      "['foo', 'x41']\n",
      "['foo', 'x41']\n",
      "['foo', 'x41']\n",
      "1161\n"
     ]
    }
   ],
   "source": [
    "# 函数式编程\n",
    "\n",
    "# map函数将序列中的全部元素分别传递给一个函数\n",
    "print map(str,range(10))\n",
    "\n",
    "# filter函数可以基于一个返回布尔值的函数对元素进行过去\n",
    "def func(x):\n",
    "    return x.isalnum() #isalnum方法检查字符串中是否有数字和字母\n",
    "seq=['foo','x41','?!','***']\n",
    "print filter(func,seq)\n",
    "\n",
    "# 也可以使用列表推导式\n",
    "print [x for x in seq if x.isalnum()]\n",
    "print filter(lambda x:x.isalnum(),seq)\n",
    "\n",
    "# reduce函数可以将序列的前两个元素与给定的函数联合使用，并且将返回值与第三个元素继续联合使用，直到整个序列处理完毕\n",
    "numbers=[72,101,108,108,111,44,32,119,111,114,108,100,33]\n",
    "print reduce(lambda x,y:x+y,numbers)"
   ]
  }
 ],
 "metadata": {
  "kernelspec": {
   "display_name": "Python 2",
   "language": "python",
   "name": "python2"
  },
  "language_info": {
   "codemirror_mode": {
    "name": "ipython",
    "version": 2
   },
   "file_extension": ".py",
   "mimetype": "text/x-python",
   "name": "python",
   "nbconvert_exporter": "python",
   "pygments_lexer": "ipython2",
   "version": "2.7.11"
  }
 },
 "nbformat": 4,
 "nbformat_minor": 0
}
